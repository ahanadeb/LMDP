{
  "nbformat": 4,
  "nbformat_minor": 0,
  "metadata": {
    "colab": {
      "provenance": [],
      "machine_shape": "hm"
    },
    "kernelspec": {
      "name": "python3",
      "display_name": "Python 3"
    },
    "language_info": {
      "name": "python"
    },
    "gpuClass": "standard"
  },
  "cells": [
    {
      "cell_type": "code",
      "execution_count": 1,
      "metadata": {
        "id": "T4Pbm1wlvjNN"
      },
      "outputs": [],
      "source": [
        "import numpy as np\n",
        "import matplotlib as plt\n",
        "import sys \n",
        "import os"
      ]
    },
    {
      "cell_type": "code",
      "source": [
        "pathm='/content/drive/MyDrive/dpm_lmdp/'\n",
        "sys.path.append(os.path.abspath(pathm))"
      ],
      "metadata": {
        "id": "5alXYXgjvs15"
      },
      "execution_count": 2,
      "outputs": []
    },
    {
      "cell_type": "code",
      "source": [
        "import matplotlib.pyplot as plt\n",
        "import numpy as np\n",
        "from utils.util_functions import *\n",
        "from utils.reward import *\n",
        "from utils.transition import get_transitions\n",
        "from utils.policies import *\n",
        "from utils.plot import *\n",
        "from utils.gen_trajectories import *\n",
        "from utils.cluster_assignment import *\n",
        "from utils.params import *\n",
        "from utils.acc_ratio import *\n",
        "from utils.DPMHL import *\n",
        "import random\n",
        "\n",
        "from utils.lmdp import *\n",
        "\n",
        "from utils.evd import *"
      ],
      "metadata": {
        "id": "tcoAcQQXvxn-"
      },
      "execution_count": 3,
      "outputs": []
    },
    {
      "cell_type": "code",
      "source": [
        "print(\"hey\")\n",
        "P_un = uncontrolled_lmdp()\n",
        "#np.set_printoptions(threshold=np.inf)\n",
        "\n",
        "EVD = []\n",
        "y = []\n",
        "i = 2\n",
        "while i < 9:\n",
        "    maxiter = 100\n",
        "    tn = RF * i\n",
        "    y.append(int(i))\n",
        "    traj_set, rewards_gt,y2 = lmdp_trajectories(F, P_un, RF, tn, tl)\n",
        "    maxC = dpmhl(traj_set, maxiter, tn, P_un)\n",
        "    e = evd(maxC, rewards_gt, maxiter, tn, P_un,y2)\n",
        "    EVD.append(e)\n",
        "    print(\"EVD = \", EVD)\n",
        "    i = i + 2\n",
        "print(\"Completed. EVD = \", EVD)\n",
        "plt.plot(y, np.asarray(EVD))\n",
        "plt.xlabel('no. of trajectories per agent')\n",
        "plt.ylabel('EVD for the new trajectory')\n",
        "plt.savefig('figure.png')\n",
        "plt.show()"
      ],
      "metadata": {
        "colab": {
          "base_uri": "https://localhost:8080/",
          "height": 1000
        },
        "id": "LonO-cZ6v3Or",
        "outputId": "19e42999-9d5c-4a02-9cd7-400f9dd7aa05"
      },
      "execution_count": 6,
      "outputs": [
        {
          "output_type": "stream",
          "name": "stdout",
          "text": [
            "hey\n",
            "original assignment [2 2 1 0 0 1]\n",
            "logpost  -2.0794415416798359283   -354.2825836619006   -36.62019339605524\n",
            "init pr =  -392.9822185996356951\n"
          ]
        },
        {
          "output_type": "stream",
          "name": "stderr",
          "text": [
            "  1%|          | 1/100 [00:00<01:06,  1.48it/s]"
          ]
        },
        {
          "output_type": "stream",
          "name": "stdout",
          "text": [
            "logpost  -0.69314718055994530943   -319.98984122340914   -16.193588656063763\n",
            "0 th iteration, pr =  -336.87657706003285255   -336.87657706003285255   [[0. 0. 0. 1. 1. 0.]]\n"
          ]
        },
        {
          "output_type": "stream",
          "name": "stderr",
          "text": [
            "\r  2%|▏         | 2/100 [00:01<01:05,  1.49it/s]"
          ]
        },
        {
          "output_type": "stream",
          "name": "stdout",
          "text": [
            "logpost  -1.0986122886681097469   -321.1228588469172   -15.069476627906447\n",
            "1 th iteration, pr =  -337.2909477634917674   -336.87657706003285255   [[1. 0. 0. 1. 1. 0.]]\n"
          ]
        },
        {
          "output_type": "stream",
          "name": "stderr",
          "text": [
            "\r  3%|▎         | 3/100 [00:02<01:06,  1.47it/s]"
          ]
        },
        {
          "output_type": "stream",
          "name": "stdout",
          "text": [
            "logpost  -1.0986122886681097469   -317.4837090172638   -19.41699493213198\n",
            "2 th iteration, pr =  -337.99931623806386824   -336.87657706003285255   [[1. 0. 0. 1. 1. 0.]]\n"
          ]
        },
        {
          "output_type": "stream",
          "name": "stderr",
          "text": [
            "\r  4%|▍         | 4/100 [00:02<01:04,  1.49it/s]"
          ]
        },
        {
          "output_type": "stream",
          "name": "stdout",
          "text": [
            "logpost  -0.69314718055994530943   -312.2026187153085   -19.031984052386456\n",
            "3 th iteration, pr =  -331.92774994825491844   -331.92774994825491844   [[0. 0. 0. 1. 1. 0.]]\n"
          ]
        },
        {
          "output_type": "stream",
          "name": "stderr",
          "text": [
            "\r  5%|▌         | 5/100 [00:03<01:03,  1.50it/s]"
          ]
        },
        {
          "output_type": "stream",
          "name": "stdout",
          "text": [
            "logpost  -0.69314718055994530943   -311.56526585893863   -19.64188100261022\n",
            "4 th iteration, pr =  -331.90029404210879518   -331.90029404210879518   [[0. 0. 0. 1. 1. 0.]]\n"
          ]
        },
        {
          "output_type": "stream",
          "name": "stderr",
          "text": [
            "\r  6%|▌         | 6/100 [00:03<01:00,  1.55it/s]"
          ]
        },
        {
          "output_type": "stream",
          "name": "stdout",
          "text": [
            "logpost  -0.69314718055994530943   -309.82682222011124   -14.431167386866786\n",
            "5 th iteration, pr =  -324.95113678753797073   -324.95113678753797073   [[0. 0. 0. 1. 1. 0.]]\n"
          ]
        },
        {
          "output_type": "stream",
          "name": "stderr",
          "text": [
            "\r  7%|▋         | 7/100 [00:04<00:58,  1.58it/s]"
          ]
        },
        {
          "output_type": "stream",
          "name": "stdout",
          "text": [
            "logpost  -1.0986122886681097469   -309.4256239366034   -13.030850002018198\n",
            "6 th iteration, pr =  -323.55508622728972298   -323.55508622728972298   [[0. 1. 0. 1. 1. 0.]]\n"
          ]
        },
        {
          "output_type": "stream",
          "name": "stderr",
          "text": [
            "\r  8%|▊         | 8/100 [00:05<00:56,  1.63it/s]"
          ]
        },
        {
          "output_type": "stream",
          "name": "stdout",
          "text": [
            "logpost  -0.69314718055994530943   -307.03792325585664   -13.030850002018198\n",
            "7 th iteration, pr =  -320.76192043843478344   -320.76192043843478344   [[0. 0. 0. 1. 1. 0.]]\n"
          ]
        },
        {
          "output_type": "stream",
          "name": "stderr",
          "text": [
            "\r  9%|▉         | 9/100 [00:05<00:56,  1.60it/s]"
          ]
        },
        {
          "output_type": "stream",
          "name": "stdout",
          "text": [
            "logpost  -0.69314718055994530943   -307.03792325585664   -13.030850002018198\n",
            "8 th iteration, pr =  -320.76192043843478344   -320.76192043843478344   [[0. 0. 0. 1. 1. 0.]]\n"
          ]
        },
        {
          "output_type": "stream",
          "name": "stderr",
          "text": [
            "\r 10%|█         | 10/100 [00:06<00:56,  1.61it/s]"
          ]
        },
        {
          "output_type": "stream",
          "name": "stdout",
          "text": [
            "logpost  -0.69314718055994530943   -307.03792325585664   -13.030850002018198\n",
            "9 th iteration, pr =  -320.76192043843478344   -320.76192043843478344   [[0. 0. 0. 1. 1. 0.]]\n"
          ]
        },
        {
          "output_type": "stream",
          "name": "stderr",
          "text": [
            "\r 11%|█         | 11/100 [00:07<00:56,  1.59it/s]"
          ]
        },
        {
          "output_type": "stream",
          "name": "stdout",
          "text": [
            "logpost  -0.69314718055994530943   -307.03792325585664   -13.030850002018198\n",
            "10 th iteration, pr =  -320.76192043843478344   -320.76192043843478344   [[0. 0. 0. 1. 1. 0.]]\n"
          ]
        },
        {
          "output_type": "stream",
          "name": "stderr",
          "text": [
            "\r 12%|█▏        | 12/100 [00:07<00:55,  1.58it/s]"
          ]
        },
        {
          "output_type": "stream",
          "name": "stdout",
          "text": [
            "logpost  -0.69314718055994530943   -306.2345122877697   -17.114770126394436\n",
            "11 th iteration, pr =  -324.04242959472407107   -320.76192043843478344   [[0. 0. 0. 1. 1. 0.]]\n"
          ]
        },
        {
          "output_type": "stream",
          "name": "stderr",
          "text": [
            "\r 13%|█▎        | 13/100 [00:08<00:54,  1.61it/s]"
          ]
        },
        {
          "output_type": "stream",
          "name": "stdout",
          "text": [
            "logpost  -0.69314718055994530943   -306.2345122877697   -17.114770126394436\n",
            "12 th iteration, pr =  -324.04242959472407107   -320.76192043843478344   [[0. 0. 0. 1. 1. 0.]]\n"
          ]
        },
        {
          "output_type": "stream",
          "name": "stderr",
          "text": [
            "\r 14%|█▍        | 14/100 [00:08<00:52,  1.64it/s]"
          ]
        },
        {
          "output_type": "stream",
          "name": "stdout",
          "text": [
            "logpost  -0.69314718055994530943   -306.2345122877697   -17.114770126394436\n",
            "13 th iteration, pr =  -324.04242959472407107   -320.76192043843478344   [[0. 0. 0. 1. 1. 0.]]\n"
          ]
        },
        {
          "output_type": "stream",
          "name": "stderr",
          "text": [
            "\r 15%|█▌        | 15/100 [00:09<00:51,  1.64it/s]"
          ]
        },
        {
          "output_type": "stream",
          "name": "stdout",
          "text": [
            "logpost  -0.69314718055994530943   -306.2345122877697   -17.114770126394436\n",
            "14 th iteration, pr =  -324.04242959472407107   -320.76192043843478344   [[0. 0. 0. 1. 1. 0.]]\n"
          ]
        },
        {
          "output_type": "stream",
          "name": "stderr",
          "text": [
            "\r 16%|█▌        | 16/100 [00:10<00:50,  1.66it/s]"
          ]
        },
        {
          "output_type": "stream",
          "name": "stdout",
          "text": [
            "logpost  -0.69314718055994530943   -306.2345122877697   -17.114770126394436\n",
            "15 th iteration, pr =  -324.04242959472407107   -320.76192043843478344   [[0. 0. 0. 1. 1. 0.]]\n"
          ]
        },
        {
          "output_type": "stream",
          "name": "stderr",
          "text": [
            "\r 17%|█▋        | 17/100 [00:10<00:50,  1.66it/s]"
          ]
        },
        {
          "output_type": "stream",
          "name": "stdout",
          "text": [
            "logpost  -0.69314718055994530943   -306.2345122877697   -17.114770126394436\n",
            "16 th iteration, pr =  -324.04242959472407107   -320.76192043843478344   [[0. 0. 0. 1. 1. 0.]]\n"
          ]
        },
        {
          "output_type": "stream",
          "name": "stderr",
          "text": [
            "\r 18%|█▊        | 18/100 [00:11<00:48,  1.67it/s]"
          ]
        },
        {
          "output_type": "stream",
          "name": "stdout",
          "text": [
            "logpost  -0.69314718055994530943   -306.2345122877697   -17.114770126394436\n",
            "17 th iteration, pr =  -324.04242959472407107   -320.76192043843478344   [[0. 0. 0. 1. 1. 0.]]\n"
          ]
        },
        {
          "output_type": "stream",
          "name": "stderr",
          "text": [
            "\r 19%|█▉        | 19/100 [00:11<00:48,  1.66it/s]"
          ]
        },
        {
          "output_type": "stream",
          "name": "stdout",
          "text": [
            "logpost  -0.69314718055994530943   -306.2345122877697   -17.114770126394436\n",
            "18 th iteration, pr =  -324.04242959472407107   -320.76192043843478344   [[0. 0. 0. 1. 1. 0.]]\n"
          ]
        },
        {
          "output_type": "stream",
          "name": "stderr",
          "text": [
            "\r 20%|██        | 20/100 [00:12<00:48,  1.65it/s]"
          ]
        },
        {
          "output_type": "stream",
          "name": "stdout",
          "text": [
            "logpost  -0.69314718055994530943   -306.906177128677   -17.697283517265294\n",
            "19 th iteration, pr =  -325.2966078265022122   -320.76192043843478344   [[0. 0. 0. 1. 1. 0.]]\n"
          ]
        },
        {
          "output_type": "stream",
          "name": "stderr",
          "text": [
            "\r 21%|██        | 21/100 [00:13<00:48,  1.62it/s]"
          ]
        },
        {
          "output_type": "stream",
          "name": "stdout",
          "text": [
            "logpost  -0.69314718055994530943   -306.906177128677   -17.697283517265294\n",
            "20 th iteration, pr =  -325.2966078265022122   -320.76192043843478344   [[0. 0. 0. 1. 1. 0.]]\n"
          ]
        },
        {
          "output_type": "stream",
          "name": "stderr",
          "text": [
            "\r 22%|██▏       | 22/100 [00:13<00:49,  1.57it/s]"
          ]
        },
        {
          "output_type": "stream",
          "name": "stdout",
          "text": [
            "logpost  -0.69314718055994530943   -306.906177128677   -17.697283517265294\n",
            "21 th iteration, pr =  -325.2966078265022122   -320.76192043843478344   [[0. 0. 0. 1. 1. 0.]]\n"
          ]
        },
        {
          "output_type": "stream",
          "name": "stderr",
          "text": [
            "\r 23%|██▎       | 23/100 [00:14<00:50,  1.53it/s]"
          ]
        },
        {
          "output_type": "stream",
          "name": "stdout",
          "text": [
            "logpost  -0.69314718055994530943   -306.906177128677   -17.697283517265294\n",
            "22 th iteration, pr =  -325.2966078265022122   -320.76192043843478344   [[0. 0. 0. 1. 1. 0.]]\n"
          ]
        },
        {
          "output_type": "stream",
          "name": "stderr",
          "text": [
            "\r 24%|██▍       | 24/100 [00:15<00:49,  1.55it/s]"
          ]
        },
        {
          "output_type": "stream",
          "name": "stdout",
          "text": [
            "logpost  -0.69314718055994530943   -306.906177128677   -17.697283517265294\n",
            "23 th iteration, pr =  -325.2966078265022122   -320.76192043843478344   [[0. 0. 0. 1. 1. 0.]]\n"
          ]
        },
        {
          "output_type": "stream",
          "name": "stderr",
          "text": [
            "\r 25%|██▌       | 25/100 [00:15<00:48,  1.54it/s]"
          ]
        },
        {
          "output_type": "stream",
          "name": "stdout",
          "text": [
            "logpost  -0.69314718055994530943   -306.906177128677   -17.697283517265294\n",
            "24 th iteration, pr =  -325.2966078265022122   -320.76192043843478344   [[0. 0. 0. 1. 1. 0.]]\n"
          ]
        },
        {
          "output_type": "stream",
          "name": "stderr",
          "text": [
            "\r 26%|██▌       | 26/100 [00:16<00:46,  1.59it/s]"
          ]
        },
        {
          "output_type": "stream",
          "name": "stdout",
          "text": [
            "logpost  -0.69314718055994530943   -306.906177128677   -17.697283517265294\n",
            "25 th iteration, pr =  -325.2966078265022122   -320.76192043843478344   [[0. 0. 0. 1. 1. 0.]]\n"
          ]
        },
        {
          "output_type": "stream",
          "name": "stderr",
          "text": [
            "\r 27%|██▋       | 27/100 [00:16<00:45,  1.61it/s]"
          ]
        },
        {
          "output_type": "stream",
          "name": "stdout",
          "text": [
            "logpost  -0.69314718055994530943   -306.906177128677   -17.697283517265294\n",
            "26 th iteration, pr =  -325.2966078265022122   -320.76192043843478344   [[0. 0. 0. 1. 1. 0.]]\n"
          ]
        },
        {
          "output_type": "stream",
          "name": "stderr",
          "text": [
            "\r 28%|██▊       | 28/100 [00:17<00:44,  1.60it/s]"
          ]
        },
        {
          "output_type": "stream",
          "name": "stdout",
          "text": [
            "logpost  -0.69314718055994530943   -306.906177128677   -17.697283517265294\n",
            "27 th iteration, pr =  -325.2966078265022122   -320.76192043843478344   [[0. 0. 0. 1. 1. 0.]]\n"
          ]
        },
        {
          "output_type": "stream",
          "name": "stderr",
          "text": [
            "\r 29%|██▉       | 29/100 [00:18<00:43,  1.63it/s]"
          ]
        },
        {
          "output_type": "stream",
          "name": "stdout",
          "text": [
            "logpost  -0.69314718055994530943   -306.906177128677   -17.697283517265294\n",
            "28 th iteration, pr =  -325.2966078265022122   -320.76192043843478344   [[0. 0. 0. 1. 1. 0.]]\n"
          ]
        },
        {
          "output_type": "stream",
          "name": "stderr",
          "text": [
            "\r 30%|███       | 30/100 [00:18<00:43,  1.63it/s]"
          ]
        },
        {
          "output_type": "stream",
          "name": "stdout",
          "text": [
            "logpost  -0.69314718055994530943   -306.906177128677   -17.697283517265294\n",
            "29 th iteration, pr =  -325.2966078265022122   -320.76192043843478344   [[0. 0. 0. 1. 1. 0.]]\n"
          ]
        },
        {
          "output_type": "stream",
          "name": "stderr",
          "text": [
            "\r 31%|███       | 31/100 [00:19<00:41,  1.65it/s]"
          ]
        },
        {
          "output_type": "stream",
          "name": "stdout",
          "text": [
            "logpost  -0.69314718055994530943   -306.906177128677   -17.697283517265294\n",
            "30 th iteration, pr =  -325.2966078265022122   -320.76192043843478344   [[0. 0. 0. 1. 1. 0.]]\n"
          ]
        },
        {
          "output_type": "stream",
          "name": "stderr",
          "text": [
            "\r 32%|███▏      | 32/100 [00:19<00:41,  1.64it/s]"
          ]
        },
        {
          "output_type": "stream",
          "name": "stdout",
          "text": [
            "logpost  -0.69314718055994530943   -306.906177128677   -17.697283517265294\n",
            "31 th iteration, pr =  -325.2966078265022122   -320.76192043843478344   [[0. 0. 0. 1. 1. 0.]]\n"
          ]
        },
        {
          "output_type": "stream",
          "name": "stderr",
          "text": [
            "\r 33%|███▎      | 33/100 [00:20<00:40,  1.64it/s]"
          ]
        },
        {
          "output_type": "stream",
          "name": "stdout",
          "text": [
            "logpost  -0.69314718055994530943   -306.906177128677   -17.697283517265294\n",
            "32 th iteration, pr =  -325.2966078265022122   -320.76192043843478344   [[0. 0. 0. 1. 1. 0.]]\n"
          ]
        },
        {
          "output_type": "stream",
          "name": "stderr",
          "text": [
            "\r 34%|███▍      | 34/100 [00:21<00:39,  1.66it/s]"
          ]
        },
        {
          "output_type": "stream",
          "name": "stdout",
          "text": [
            "logpost  -0.69314718055994530943   -306.906177128677   -17.697283517265294\n",
            "33 th iteration, pr =  -325.2966078265022122   -320.76192043843478344   [[0. 0. 0. 1. 1. 0.]]\n"
          ]
        },
        {
          "output_type": "stream",
          "name": "stderr",
          "text": [
            "\r 35%|███▌      | 35/100 [00:21<00:39,  1.66it/s]"
          ]
        },
        {
          "output_type": "stream",
          "name": "stdout",
          "text": [
            "logpost  -0.69314718055994530943   -306.3228734727304   -15.335261392778847\n",
            "34 th iteration, pr =  -322.35128204606919936   -320.76192043843478344   [[0. 0. 0. 1. 1. 0.]]\n"
          ]
        },
        {
          "output_type": "stream",
          "name": "stderr",
          "text": [
            "\r 36%|███▌      | 36/100 [00:22<00:38,  1.66it/s]"
          ]
        },
        {
          "output_type": "stream",
          "name": "stdout",
          "text": [
            "logpost  -0.69314718055994530943   -307.42140938800446   -18.18863581416998\n",
            "35 th iteration, pr =  -326.30319238273438912   -320.76192043843478344   [[0. 0. 0. 1. 1. 0.]]\n"
          ]
        },
        {
          "output_type": "stream",
          "name": "stderr",
          "text": [
            "\r 37%|███▋      | 37/100 [00:22<00:37,  1.67it/s]"
          ]
        },
        {
          "output_type": "stream",
          "name": "stdout",
          "text": [
            "logpost  -0.69314718055994530943   -307.42140938800446   -18.18863581416998\n",
            "36 th iteration, pr =  -326.30319238273438912   -320.76192043843478344   [[0. 0. 0. 1. 1. 0.]]\n"
          ]
        },
        {
          "output_type": "stream",
          "name": "stderr",
          "text": [
            "\r 38%|███▊      | 38/100 [00:23<00:37,  1.66it/s]"
          ]
        },
        {
          "output_type": "stream",
          "name": "stdout",
          "text": [
            "logpost  -1.0986122886681097469   -308.6597679994318   -18.18863581416998\n",
            "37 th iteration, pr =  -327.9470161022698693   -320.76192043843478344   [[0. 0. 0. 1. 1. 0.]]\n"
          ]
        },
        {
          "output_type": "stream",
          "name": "stderr",
          "text": [
            "\r 39%|███▉      | 39/100 [00:24<00:36,  1.67it/s]"
          ]
        },
        {
          "output_type": "stream",
          "name": "stdout",
          "text": [
            "logpost  -0.69314718055994530943   -307.42140938800446   -18.18863581416998\n",
            "38 th iteration, pr =  -326.30319238273438912   -320.76192043843478344   [[0. 0. 0. 1. 1. 0.]]\n"
          ]
        },
        {
          "output_type": "stream",
          "name": "stderr",
          "text": [
            "\r 40%|████      | 40/100 [00:24<00:36,  1.62it/s]"
          ]
        },
        {
          "output_type": "stream",
          "name": "stdout",
          "text": [
            "logpost  -0.69314718055994530943   -307.42140938800446   -18.18863581416998\n",
            "39 th iteration, pr =  -326.30319238273438912   -320.76192043843478344   [[0. 0. 0. 1. 1. 0.]]\n"
          ]
        },
        {
          "output_type": "stream",
          "name": "stderr",
          "text": [
            "\r 41%|████      | 41/100 [00:25<00:36,  1.61it/s]"
          ]
        },
        {
          "output_type": "stream",
          "name": "stdout",
          "text": [
            "logpost  -0.69314718055994530943   -307.42140938800446   -18.18863581416998\n",
            "40 th iteration, pr =  -326.30319238273438912   -320.76192043843478344   [[0. 0. 0. 1. 1. 0.]]\n"
          ]
        },
        {
          "output_type": "stream",
          "name": "stderr",
          "text": [
            "\r 42%|████▏     | 42/100 [00:26<00:37,  1.56it/s]"
          ]
        },
        {
          "output_type": "stream",
          "name": "stdout",
          "text": [
            "logpost  -0.69314718055994530943   -308.62598810982206   -11.707818878910224\n",
            "41 th iteration, pr =  -321.02695416929222985   -320.76192043843478344   [[0. 0. 0. 1. 1. 0.]]\n"
          ]
        },
        {
          "output_type": "stream",
          "name": "stderr",
          "text": [
            "\r 43%|████▎     | 43/100 [00:26<00:37,  1.53it/s]"
          ]
        },
        {
          "output_type": "stream",
          "name": "stdout",
          "text": [
            "logpost  -0.69314718055994530943   -308.62598810982206   -11.707818878910224\n",
            "42 th iteration, pr =  -321.02695416929222985   -320.76192043843478344   [[0. 0. 0. 1. 1. 0.]]\n"
          ]
        },
        {
          "output_type": "stream",
          "name": "stderr",
          "text": [
            "\r 44%|████▍     | 44/100 [00:27<00:37,  1.51it/s]"
          ]
        },
        {
          "output_type": "stream",
          "name": "stdout",
          "text": [
            "logpost  -0.69314718055994530943   -308.62598810982206   -11.707818878910224\n",
            "43 th iteration, pr =  -321.02695416929222985   -320.76192043843478344   [[0. 0. 0. 1. 1. 0.]]\n"
          ]
        },
        {
          "output_type": "stream",
          "name": "stderr",
          "text": [
            "\r 45%|████▌     | 45/100 [00:28<00:36,  1.51it/s]"
          ]
        },
        {
          "output_type": "stream",
          "name": "stdout",
          "text": [
            "logpost  -0.69314718055994530943   -308.62598810982206   -11.707818878910224\n",
            "44 th iteration, pr =  -321.02695416929222985   -320.76192043843478344   [[0. 0. 0. 1. 1. 0.]]\n"
          ]
        },
        {
          "output_type": "stream",
          "name": "stderr",
          "text": [
            "\r 46%|████▌     | 46/100 [00:28<00:35,  1.52it/s]"
          ]
        },
        {
          "output_type": "stream",
          "name": "stdout",
          "text": [
            "logpost  -1.0986122886681097469   -310.69115680662236   -11.707818878910224\n",
            "45 th iteration, pr =  -323.49758797420069342   -320.76192043843478344   [[0. 0. 0. 1. 1. 0.]]\n"
          ]
        },
        {
          "output_type": "stream",
          "name": "stderr",
          "text": [
            "\r 47%|████▋     | 47/100 [00:29<00:33,  1.56it/s]"
          ]
        },
        {
          "output_type": "stream",
          "name": "stdout",
          "text": [
            "logpost  -0.69314718055994530943   -308.62598810982206   -11.707818878910224\n",
            "46 th iteration, pr =  -321.02695416929222985   -320.76192043843478344   [[0. 0. 0. 1. 1. 0.]]\n"
          ]
        },
        {
          "output_type": "stream",
          "name": "stderr",
          "text": [
            "\r 48%|████▊     | 48/100 [00:30<00:32,  1.59it/s]"
          ]
        },
        {
          "output_type": "stream",
          "name": "stdout",
          "text": [
            "logpost  -0.69314718055994530943   -308.62598810982206   -11.707818878910224\n",
            "47 th iteration, pr =  -321.02695416929222985   -320.76192043843478344   [[0. 0. 0. 1. 1. 0.]]\n"
          ]
        },
        {
          "output_type": "stream",
          "name": "stderr",
          "text": [
            "\r 49%|████▉     | 49/100 [00:30<00:31,  1.61it/s]"
          ]
        },
        {
          "output_type": "stream",
          "name": "stdout",
          "text": [
            "logpost  -0.69314718055994530943   -308.62598810982206   -11.707818878910224\n",
            "48 th iteration, pr =  -321.02695416929222985   -320.76192043843478344   [[0. 0. 0. 1. 1. 0.]]\n"
          ]
        },
        {
          "output_type": "stream",
          "name": "stderr",
          "text": [
            "\r 50%|█████     | 50/100 [00:31<00:31,  1.61it/s]"
          ]
        },
        {
          "output_type": "stream",
          "name": "stdout",
          "text": [
            "logpost  -1.0986122886681097469   -309.4787323144572   -11.707818878910224\n",
            "49 th iteration, pr =  -322.28516348203553818   -320.76192043843478344   [[0. 0. 0. 1. 1. 0.]]\n"
          ]
        },
        {
          "output_type": "stream",
          "name": "stderr",
          "text": [
            "\r 51%|█████     | 51/100 [00:31<00:30,  1.60it/s]"
          ]
        },
        {
          "output_type": "stream",
          "name": "stdout",
          "text": [
            "logpost  -0.69314718055994530943   -308.62598810982206   -11.707818878910224\n",
            "50 th iteration, pr =  -321.02695416929222985   -320.76192043843478344   [[0. 0. 0. 1. 1. 0.]]\n"
          ]
        },
        {
          "output_type": "stream",
          "name": "stderr",
          "text": [
            "\r 52%|█████▏    | 52/100 [00:32<00:29,  1.63it/s]"
          ]
        },
        {
          "output_type": "stream",
          "name": "stdout",
          "text": [
            "logpost  -0.69314718055994530943   -308.62598810982206   -11.707818878910224\n",
            "51 th iteration, pr =  -321.02695416929222985   -320.76192043843478344   [[0. 0. 0. 1. 1. 0.]]\n"
          ]
        },
        {
          "output_type": "stream",
          "name": "stderr",
          "text": [
            "\r 53%|█████▎    | 53/100 [00:33<00:28,  1.64it/s]"
          ]
        },
        {
          "output_type": "stream",
          "name": "stdout",
          "text": [
            "logpost  -0.69314718055994530943   -307.73232678836087   -15.740774293026725\n",
            "52 th iteration, pr =  -324.1662482619475351   -320.76192043843478344   [[0. 0. 0. 1. 1. 0.]]\n"
          ]
        },
        {
          "output_type": "stream",
          "name": "stderr",
          "text": [
            "\r 54%|█████▍    | 54/100 [00:33<00:28,  1.62it/s]"
          ]
        },
        {
          "output_type": "stream",
          "name": "stdout",
          "text": [
            "logpost  -0.69314718055994530943   -304.7260800335792   -14.450441396814465\n",
            "53 th iteration, pr =  -319.86966861095360484   -319.86966861095360484   [[0. 0. 0. 1. 1. 0.]]\n"
          ]
        },
        {
          "output_type": "stream",
          "name": "stderr",
          "text": [
            "\r 55%|█████▌    | 55/100 [00:34<00:27,  1.65it/s]"
          ]
        },
        {
          "output_type": "stream",
          "name": "stdout",
          "text": [
            "logpost  -0.69314718055994530943   -304.7260800335792   -14.450441396814465\n",
            "54 th iteration, pr =  -319.86966861095360484   -319.86966861095360484   [[0. 0. 0. 1. 1. 0.]]\n"
          ]
        },
        {
          "output_type": "stream",
          "name": "stderr",
          "text": [
            "\r 56%|█████▌    | 56/100 [00:34<00:27,  1.60it/s]"
          ]
        },
        {
          "output_type": "stream",
          "name": "stdout",
          "text": [
            "logpost  -0.69314718055994530943   -304.7260800335792   -14.450441396814465\n",
            "55 th iteration, pr =  -319.86966861095360484   -319.86966861095360484   [[0. 0. 0. 1. 1. 0.]]\n"
          ]
        },
        {
          "output_type": "stream",
          "name": "stderr",
          "text": [
            "\r 57%|█████▋    | 57/100 [00:35<00:26,  1.61it/s]"
          ]
        },
        {
          "output_type": "stream",
          "name": "stdout",
          "text": [
            "logpost  -0.69314718055994530943   -304.7260800335792   -14.450441396814465\n",
            "56 th iteration, pr =  -319.86966861095360484   -319.86966861095360484   [[0. 0. 0. 1. 1. 0.]]\n"
          ]
        },
        {
          "output_type": "stream",
          "name": "stderr",
          "text": [
            "\r 58%|█████▊    | 58/100 [00:36<00:25,  1.62it/s]"
          ]
        },
        {
          "output_type": "stream",
          "name": "stdout",
          "text": [
            "logpost  -0.69314718055994530943   -304.7260800335792   -14.450441396814465\n",
            "57 th iteration, pr =  -319.86966861095360484   -319.86966861095360484   [[0. 0. 0. 1. 1. 0.]]\n"
          ]
        },
        {
          "output_type": "stream",
          "name": "stderr",
          "text": [
            "\r 59%|█████▉    | 59/100 [00:36<00:25,  1.61it/s]"
          ]
        },
        {
          "output_type": "stream",
          "name": "stdout",
          "text": [
            "logpost  -0.69314718055994530943   -304.7260800335792   -14.450441396814465\n",
            "58 th iteration, pr =  -319.86966861095360484   -319.86966861095360484   [[0. 0. 0. 1. 1. 0.]]\n"
          ]
        },
        {
          "output_type": "stream",
          "name": "stderr",
          "text": [
            "\r 60%|██████    | 60/100 [00:37<00:24,  1.62it/s]"
          ]
        },
        {
          "output_type": "stream",
          "name": "stdout",
          "text": [
            "logpost  -0.69314718055994530943   -303.0196491928173   -14.026493952077818\n",
            "59 th iteration, pr =  -317.73929032545508902   -317.73929032545508902   [[0. 0. 0. 1. 1. 0.]]\n"
          ]
        },
        {
          "output_type": "stream",
          "name": "stderr",
          "text": [
            "\r 61%|██████    | 61/100 [00:38<00:24,  1.62it/s]"
          ]
        },
        {
          "output_type": "stream",
          "name": "stdout",
          "text": [
            "logpost  -0.69314718055994530943   -303.0196491928173   -14.026493952077818\n",
            "60 th iteration, pr =  -317.73929032545508902   -317.73929032545508902   [[0. 0. 0. 1. 1. 0.]]\n"
          ]
        },
        {
          "output_type": "stream",
          "name": "stderr",
          "text": [
            "\r 62%|██████▏   | 62/100 [00:38<00:23,  1.59it/s]"
          ]
        },
        {
          "output_type": "stream",
          "name": "stdout",
          "text": [
            "logpost  -0.69314718055994530943   -303.0196491928173   -14.026493952077818\n",
            "61 th iteration, pr =  -317.73929032545508902   -317.73929032545508902   [[0. 0. 0. 1. 1. 0.]]\n"
          ]
        },
        {
          "output_type": "stream",
          "name": "stderr",
          "text": [
            "\r 63%|██████▎   | 63/100 [00:39<00:23,  1.60it/s]"
          ]
        },
        {
          "output_type": "stream",
          "name": "stdout",
          "text": [
            "logpost  -0.69314718055994530943   -301.9875635754127   -19.234484958056\n",
            "62 th iteration, pr =  -321.91519571402865366   -317.73929032545508902   [[0. 0. 0. 1. 1. 0.]]\n"
          ]
        },
        {
          "output_type": "stream",
          "name": "stderr",
          "text": [
            "\r 64%|██████▍   | 64/100 [00:40<00:23,  1.53it/s]"
          ]
        },
        {
          "output_type": "stream",
          "name": "stdout",
          "text": [
            "logpost  -0.69314718055994530943   -301.9875635754127   -19.234484958056\n",
            "63 th iteration, pr =  -321.91519571402865366   -317.73929032545508902   [[0. 0. 0. 1. 1. 0.]]\n"
          ]
        },
        {
          "output_type": "stream",
          "name": "stderr",
          "text": [
            "\r 65%|██████▌   | 65/100 [00:40<00:22,  1.53it/s]"
          ]
        },
        {
          "output_type": "stream",
          "name": "stdout",
          "text": [
            "logpost  -0.69314718055994530943   -301.9875635754127   -19.234484958056\n",
            "64 th iteration, pr =  -321.91519571402865366   -317.73929032545508902   [[0. 0. 0. 1. 1. 0.]]\n"
          ]
        },
        {
          "output_type": "stream",
          "name": "stderr",
          "text": [
            "\r 66%|██████▌   | 66/100 [00:41<00:21,  1.55it/s]"
          ]
        },
        {
          "output_type": "stream",
          "name": "stdout",
          "text": [
            "logpost  -0.69314718055994530943   -301.9875635754127   -19.234484958056\n",
            "65 th iteration, pr =  -321.91519571402865366   -317.73929032545508902   [[0. 0. 0. 1. 1. 0.]]\n"
          ]
        },
        {
          "output_type": "stream",
          "name": "stderr",
          "text": [
            "\r 67%|██████▋   | 67/100 [00:41<00:20,  1.60it/s]"
          ]
        },
        {
          "output_type": "stream",
          "name": "stdout",
          "text": [
            "logpost  -0.69314718055994530943   -301.9875635754127   -19.234484958056\n",
            "66 th iteration, pr =  -321.91519571402865366   -317.73929032545508902   [[0. 0. 0. 1. 1. 0.]]\n"
          ]
        },
        {
          "output_type": "stream",
          "name": "stderr",
          "text": [
            "\r 68%|██████▊   | 68/100 [00:42<00:19,  1.61it/s]"
          ]
        },
        {
          "output_type": "stream",
          "name": "stdout",
          "text": [
            "logpost  -0.69314718055994530943   -301.9875635754127   -19.234484958056\n",
            "67 th iteration, pr =  -321.91519571402865366   -317.73929032545508902   [[0. 0. 0. 1. 1. 0.]]\n"
          ]
        },
        {
          "output_type": "stream",
          "name": "stderr",
          "text": [
            "\r 69%|██████▉   | 69/100 [00:43<00:19,  1.57it/s]"
          ]
        },
        {
          "output_type": "stream",
          "name": "stdout",
          "text": [
            "logpost  -0.69314718055994530943   -301.9875635754127   -19.234484958056\n",
            "68 th iteration, pr =  -321.91519571402865366   -317.73929032545508902   [[0. 0. 0. 1. 1. 0.]]\n"
          ]
        },
        {
          "output_type": "stream",
          "name": "stderr",
          "text": [
            "\r 70%|███████   | 70/100 [00:43<00:18,  1.61it/s]"
          ]
        },
        {
          "output_type": "stream",
          "name": "stdout",
          "text": [
            "logpost  -0.69314718055994530943   -301.9875635754127   -19.234484958056\n",
            "69 th iteration, pr =  -321.91519571402865366   -317.73929032545508902   [[0. 0. 0. 1. 1. 0.]]\n"
          ]
        },
        {
          "output_type": "stream",
          "name": "stderr",
          "text": [
            "\r 71%|███████   | 71/100 [00:44<00:17,  1.63it/s]"
          ]
        },
        {
          "output_type": "stream",
          "name": "stdout",
          "text": [
            "logpost  -0.69314718055994530943   -301.9875635754127   -19.234484958056\n",
            "70 th iteration, pr =  -321.91519571402865366   -317.73929032545508902   [[0. 0. 0. 1. 1. 0.]]\n"
          ]
        },
        {
          "output_type": "stream",
          "name": "stderr",
          "text": [
            "\r 72%|███████▏  | 72/100 [00:44<00:17,  1.63it/s]"
          ]
        },
        {
          "output_type": "stream",
          "name": "stdout",
          "text": [
            "logpost  -0.69314718055994530943   -301.9875635754127   -19.234484958056\n",
            "71 th iteration, pr =  -321.91519571402865366   -317.73929032545508902   [[0. 0. 0. 1. 1. 0.]]\n"
          ]
        },
        {
          "output_type": "stream",
          "name": "stderr",
          "text": [
            "\r 73%|███████▎  | 73/100 [00:45<00:16,  1.65it/s]"
          ]
        },
        {
          "output_type": "stream",
          "name": "stdout",
          "text": [
            "logpost  -0.69314718055994530943   -301.9875635754127   -19.234484958056\n",
            "72 th iteration, pr =  -321.91519571402865366   -317.73929032545508902   [[0. 0. 0. 1. 1. 0.]]\n"
          ]
        },
        {
          "output_type": "stream",
          "name": "stderr",
          "text": [
            "\r 74%|███████▍  | 74/100 [00:46<00:15,  1.66it/s]"
          ]
        },
        {
          "output_type": "stream",
          "name": "stdout",
          "text": [
            "logpost  -0.69314718055994530943   -301.9875635754127   -19.234484958056\n",
            "73 th iteration, pr =  -321.91519571402865366   -317.73929032545508902   [[0. 0. 0. 1. 1. 0.]]\n"
          ]
        },
        {
          "output_type": "stream",
          "name": "stderr",
          "text": [
            "\r 75%|███████▌  | 75/100 [00:46<00:15,  1.66it/s]"
          ]
        },
        {
          "output_type": "stream",
          "name": "stdout",
          "text": [
            "logpost  -0.69314718055994530943   -303.62775372721256   -17.587363184375505\n",
            "74 th iteration, pr =  -321.90826409214801443   -317.73929032545508902   [[0. 0. 0. 1. 1. 0.]]\n"
          ]
        },
        {
          "output_type": "stream",
          "name": "stderr",
          "text": [
            "\r 76%|███████▌  | 76/100 [00:47<00:14,  1.65it/s]"
          ]
        },
        {
          "output_type": "stream",
          "name": "stdout",
          "text": [
            "logpost  -0.69314718055994530943   -303.62775372721256   -17.587363184375505\n",
            "75 th iteration, pr =  -321.90826409214801443   -317.73929032545508902   [[0. 0. 0. 1. 1. 0.]]\n"
          ]
        },
        {
          "output_type": "stream",
          "name": "stderr",
          "text": [
            "\r 77%|███████▋  | 77/100 [00:48<00:14,  1.63it/s]"
          ]
        },
        {
          "output_type": "stream",
          "name": "stdout",
          "text": [
            "logpost  -0.69314718055994530943   -303.62775372721256   -17.587363184375505\n",
            "76 th iteration, pr =  -321.90826409214801443   -317.73929032545508902   [[0. 0. 0. 1. 1. 0.]]\n"
          ]
        },
        {
          "output_type": "stream",
          "name": "stderr",
          "text": [
            "\r 78%|███████▊  | 78/100 [00:48<00:13,  1.66it/s]"
          ]
        },
        {
          "output_type": "stream",
          "name": "stdout",
          "text": [
            "logpost  -0.69314718055994530943   -303.2202499766804   -16.9452997758058\n",
            "77 th iteration, pr =  -320.85869693304615238   -317.73929032545508902   [[0. 0. 0. 1. 1. 0.]]\n"
          ]
        },
        {
          "output_type": "stream",
          "name": "stderr",
          "text": [
            "\r 79%|███████▉  | 79/100 [00:49<00:12,  1.65it/s]"
          ]
        },
        {
          "output_type": "stream",
          "name": "stdout",
          "text": [
            "logpost  -0.69314718055994530943   -303.2202499766804   -16.9452997758058\n",
            "78 th iteration, pr =  -320.85869693304615238   -317.73929032545508902   [[0. 0. 0. 1. 1. 0.]]\n"
          ]
        },
        {
          "output_type": "stream",
          "name": "stderr",
          "text": [
            "\r 80%|████████  | 80/100 [00:49<00:12,  1.65it/s]"
          ]
        },
        {
          "output_type": "stream",
          "name": "stdout",
          "text": [
            "logpost  -0.69314718055994530943   -303.2202499766804   -16.9452997758058\n",
            "79 th iteration, pr =  -320.85869693304615238   -317.73929032545508902   [[0. 0. 0. 1. 1. 0.]]\n"
          ]
        },
        {
          "output_type": "stream",
          "name": "stderr",
          "text": [
            "\r 81%|████████  | 81/100 [00:50<00:11,  1.64it/s]"
          ]
        },
        {
          "output_type": "stream",
          "name": "stdout",
          "text": [
            "logpost  -0.69314718055994530943   -303.2202499766804   -16.9452997758058\n",
            "80 th iteration, pr =  -320.85869693304615238   -317.73929032545508902   [[0. 0. 0. 1. 1. 0.]]\n"
          ]
        },
        {
          "output_type": "stream",
          "name": "stderr",
          "text": [
            "\r 82%|████████▏ | 82/100 [00:51<00:11,  1.58it/s]"
          ]
        },
        {
          "output_type": "stream",
          "name": "stdout",
          "text": [
            "logpost  -0.69314718055994530943   -303.2202499766804   -16.9452997758058\n",
            "81 th iteration, pr =  -320.85869693304615238   -317.73929032545508902   [[0. 0. 0. 1. 1. 0.]]\n"
          ]
        },
        {
          "output_type": "stream",
          "name": "stderr",
          "text": [
            "\r 83%|████████▎ | 83/100 [00:51<00:10,  1.58it/s]"
          ]
        },
        {
          "output_type": "stream",
          "name": "stdout",
          "text": [
            "logpost  -0.69314718055994530943   -303.2202499766804   -16.9452997758058\n",
            "82 th iteration, pr =  -320.85869693304615238   -317.73929032545508902   [[0. 0. 0. 1. 1. 0.]]\n"
          ]
        },
        {
          "output_type": "stream",
          "name": "stderr",
          "text": [
            "\r 84%|████████▍ | 84/100 [00:52<00:10,  1.56it/s]"
          ]
        },
        {
          "output_type": "stream",
          "name": "stdout",
          "text": [
            "logpost  -0.69314718055994530943   -303.2202499766804   -16.9452997758058\n",
            "83 th iteration, pr =  -320.85869693304615238   -317.73929032545508902   [[0. 0. 0. 1. 1. 0.]]\n"
          ]
        },
        {
          "output_type": "stream",
          "name": "stderr",
          "text": [
            "\r 85%|████████▌ | 85/100 [00:53<00:09,  1.57it/s]"
          ]
        },
        {
          "output_type": "stream",
          "name": "stdout",
          "text": [
            "logpost  -0.69314718055994530943   -303.2202499766804   -16.9452997758058\n",
            "84 th iteration, pr =  -320.85869693304615238   -317.73929032545508902   [[0. 0. 0. 1. 1. 0.]]\n"
          ]
        },
        {
          "output_type": "stream",
          "name": "stderr",
          "text": [
            "\r 86%|████████▌ | 86/100 [00:53<00:08,  1.58it/s]"
          ]
        },
        {
          "output_type": "stream",
          "name": "stdout",
          "text": [
            "logpost  -0.69314718055994530943   -303.2202499766804   -16.9452997758058\n",
            "85 th iteration, pr =  -320.85869693304615238   -317.73929032545508902   [[0. 0. 0. 1. 1. 0.]]\n"
          ]
        },
        {
          "output_type": "stream",
          "name": "stderr",
          "text": [
            "\r 87%|████████▋ | 87/100 [00:54<00:08,  1.58it/s]"
          ]
        },
        {
          "output_type": "stream",
          "name": "stdout",
          "text": [
            "logpost  -0.69314718055994530943   -303.2202499766804   -16.9452997758058\n",
            "86 th iteration, pr =  -320.85869693304615238   -317.73929032545508902   [[0. 0. 0. 1. 1. 0.]]\n"
          ]
        },
        {
          "output_type": "stream",
          "name": "stderr",
          "text": [
            "\r 88%|████████▊ | 88/100 [00:54<00:07,  1.61it/s]"
          ]
        },
        {
          "output_type": "stream",
          "name": "stdout",
          "text": [
            "logpost  -0.69314718055994530943   -303.2202499766804   -16.9452997758058\n",
            "87 th iteration, pr =  -320.85869693304615238   -317.73929032545508902   [[0. 0. 0. 1. 1. 0.]]\n"
          ]
        },
        {
          "output_type": "stream",
          "name": "stderr",
          "text": [
            "\r 89%|████████▉ | 89/100 [00:55<00:06,  1.62it/s]"
          ]
        },
        {
          "output_type": "stream",
          "name": "stdout",
          "text": [
            "logpost  -0.69314718055994530943   -303.2202499766804   -16.9452997758058\n",
            "88 th iteration, pr =  -320.85869693304615238   -317.73929032545508902   [[0. 0. 0. 1. 1. 0.]]\n"
          ]
        },
        {
          "output_type": "stream",
          "name": "stderr",
          "text": [
            "\r 90%|█████████ | 90/100 [00:56<00:06,  1.64it/s]"
          ]
        },
        {
          "output_type": "stream",
          "name": "stdout",
          "text": [
            "logpost  -0.69314718055994530943   -303.2202499766804   -16.9452997758058\n",
            "89 th iteration, pr =  -320.85869693304615238   -317.73929032545508902   [[0. 0. 0. 1. 1. 0.]]\n"
          ]
        },
        {
          "output_type": "stream",
          "name": "stderr",
          "text": [
            "\r 91%|█████████ | 91/100 [00:56<00:05,  1.64it/s]"
          ]
        },
        {
          "output_type": "stream",
          "name": "stdout",
          "text": [
            "logpost  -0.69314718055994530943   -303.2202499766804   -16.9452997758058\n",
            "90 th iteration, pr =  -320.85869693304615238   -317.73929032545508902   [[0. 0. 0. 1. 1. 0.]]\n"
          ]
        },
        {
          "output_type": "stream",
          "name": "stderr",
          "text": [
            "\r 92%|█████████▏| 92/100 [00:57<00:04,  1.64it/s]"
          ]
        },
        {
          "output_type": "stream",
          "name": "stdout",
          "text": [
            "logpost  -0.69314718055994530943   -303.2202499766804   -16.9452997758058\n",
            "91 th iteration, pr =  -320.85869693304615238   -317.73929032545508902   [[0. 0. 0. 1. 1. 0.]]\n"
          ]
        },
        {
          "output_type": "stream",
          "name": "stderr",
          "text": [
            "\r 93%|█████████▎| 93/100 [00:57<00:04,  1.63it/s]"
          ]
        },
        {
          "output_type": "stream",
          "name": "stdout",
          "text": [
            "logpost  -0.69314718055994530943   -303.2202499766804   -16.9452997758058\n",
            "92 th iteration, pr =  -320.85869693304615238   -317.73929032545508902   [[0. 0. 0. 1. 1. 0.]]\n"
          ]
        },
        {
          "output_type": "stream",
          "name": "stderr",
          "text": [
            "\r 94%|█████████▍| 94/100 [00:58<00:03,  1.60it/s]"
          ]
        },
        {
          "output_type": "stream",
          "name": "stdout",
          "text": [
            "logpost  -0.69314718055994530943   -303.2202499766804   -16.9452997758058\n",
            "93 th iteration, pr =  -320.85869693304615238   -317.73929032545508902   [[0. 0. 0. 1. 1. 0.]]\n"
          ]
        },
        {
          "output_type": "stream",
          "name": "stderr",
          "text": [
            "\r 95%|█████████▌| 95/100 [00:59<00:03,  1.64it/s]"
          ]
        },
        {
          "output_type": "stream",
          "name": "stdout",
          "text": [
            "logpost  -0.69314718055994530943   -303.2202499766804   -16.9452997758058\n",
            "94 th iteration, pr =  -320.85869693304615238   -317.73929032545508902   [[0. 0. 0. 1. 1. 0.]]\n"
          ]
        },
        {
          "output_type": "stream",
          "name": "stderr",
          "text": [
            "\r 96%|█████████▌| 96/100 [00:59<00:02,  1.63it/s]"
          ]
        },
        {
          "output_type": "stream",
          "name": "stdout",
          "text": [
            "logpost  -0.69314718055994530943   -303.2202499766804   -16.9452997758058\n",
            "95 th iteration, pr =  -320.85869693304615238   -317.73929032545508902   [[0. 0. 0. 1. 1. 0.]]\n"
          ]
        },
        {
          "output_type": "stream",
          "name": "stderr",
          "text": [
            "\r 97%|█████████▋| 97/100 [01:00<00:01,  1.65it/s]"
          ]
        },
        {
          "output_type": "stream",
          "name": "stdout",
          "text": [
            "logpost  -0.69314718055994530943   -303.2202499766804   -16.9452997758058\n",
            "96 th iteration, pr =  -320.85869693304615238   -317.73929032545508902   [[0. 0. 0. 1. 1. 0.]]\n"
          ]
        },
        {
          "output_type": "stream",
          "name": "stderr",
          "text": [
            "\r 98%|█████████▊| 98/100 [01:00<00:01,  1.63it/s]"
          ]
        },
        {
          "output_type": "stream",
          "name": "stdout",
          "text": [
            "logpost  -0.69314718055994530943   -303.2202499766804   -16.9452997758058\n",
            "97 th iteration, pr =  -320.85869693304615238   -317.73929032545508902   [[0. 0. 0. 1. 1. 0.]]\n"
          ]
        },
        {
          "output_type": "stream",
          "name": "stderr",
          "text": [
            "\r 99%|█████████▉| 99/100 [01:01<00:00,  1.63it/s]"
          ]
        },
        {
          "output_type": "stream",
          "name": "stdout",
          "text": [
            "logpost  -0.69314718055994530943   -303.2202499766804   -16.9452997758058\n",
            "98 th iteration, pr =  -320.85869693304615238   -317.73929032545508902   [[0. 0. 0. 1. 1. 0.]]\n"
          ]
        },
        {
          "output_type": "stream",
          "name": "stderr",
          "text": [
            "100%|██████████| 100/100 [01:02<00:00,  1.61it/s]"
          ]
        },
        {
          "output_type": "stream",
          "name": "stdout",
          "text": [
            "logpost  -0.69314718055994530943   -303.2202499766804   -16.9452997758058\n",
            "99 th iteration, pr =  -320.85869693304615238   -317.73929032545508902   [[0. 0. 0. 1. 1. 0.]]\n",
            "association 0 2\n",
            "association 0 2\n",
            "association 0 1\n",
            "association 1 0\n",
            "association 1 0\n"
          ]
        },
        {
          "output_type": "stream",
          "name": "stderr",
          "text": [
            "\n"
          ]
        },
        {
          "output_type": "stream",
          "name": "stdout",
          "text": [
            "association 0 1\n",
            "EVD =  [4.055070287705376]\n",
            "original assignment [1 0 1 2 2 0 0 0 2 1 1 2]\n",
            "logpost  -6.356107660695891295   -677.8025121968171   -52.96949633196563\n",
            "init pr =  -737.1281161894786542\n"
          ]
        },
        {
          "output_type": "stream",
          "name": "stderr",
          "text": [
            "  1%|          | 1/100 [00:03<05:37,  3.41s/it]"
          ]
        },
        {
          "output_type": "stream",
          "name": "stdout",
          "text": [
            "logpost  -5.2574953720277816036   -634.8654430880039   -58.824972764120744\n",
            "0 th iteration, pr =  -698.9479112241523976   -698.9479112241523976   [[4. 5. 3. 2. 4. 1. 0. 2. 3. 6. 4. 4.]]\n"
          ]
        },
        {
          "output_type": "stream",
          "name": "stderr",
          "text": [
            "\r  2%|▏         | 2/100 [00:05<04:21,  2.67s/it]"
          ]
        },
        {
          "output_type": "stream",
          "name": "stdout",
          "text": [
            "logpost  -3.1780538303479456753   -625.83137303468   -42.25962569437986\n",
            "1 th iteration, pr =  -671.2690525594078434   -671.2690525594078434   [[3. 4. 1. 1. 3. 0. 0. 1. 2. 0. 3. 3.]]\n"
          ]
        },
        {
          "output_type": "stream",
          "name": "stderr",
          "text": [
            "\r  3%|▎         | 3/100 [00:07<03:34,  2.21s/it]"
          ]
        },
        {
          "output_type": "stream",
          "name": "stdout",
          "text": [
            "logpost  -3.4657359027997265471   -617.5160405308502   -34.20827257101561\n",
            "2 th iteration, pr =  -655.1900490046655441   -655.1900490046655441   [[3. 1. 1. 1. 3. 0. 0. 1. 2. 0. 3. 3.]]\n"
          ]
        },
        {
          "output_type": "stream",
          "name": "stderr",
          "text": [
            "\r  4%|▍         | 4/100 [00:08<03:10,  1.98s/it]"
          ]
        },
        {
          "output_type": "stream",
          "name": "stdout",
          "text": [
            "logpost  -3.6888794541139362474   -601.5088147823321   -41.29969299804414\n",
            "3 th iteration, pr =  -646.4973872344902106   -646.4973872344902106   [[3. 1. 1. 2. 3. 1. 1. 1. 2. 0. 3. 3.]]\n"
          ]
        },
        {
          "output_type": "stream",
          "name": "stderr",
          "text": [
            "\r  5%|▌         | 5/100 [00:10<03:00,  1.90s/it]"
          ]
        },
        {
          "output_type": "stream",
          "name": "stdout",
          "text": [
            "logpost  -3.4011973816621553894   -596.4422155960201   -39.98347520881802\n",
            "4 th iteration, pr =  -639.8268881865002817   -639.8268881865002817   [[0. 1. 1. 2. 3. 1. 1. 1. 2. 0. 3. 3.]]\n"
          ]
        },
        {
          "output_type": "stream",
          "name": "stderr",
          "text": [
            "\r  6%|▌         | 6/100 [00:12<02:51,  1.82s/it]"
          ]
        },
        {
          "output_type": "stream",
          "name": "stdout",
          "text": [
            "logpost  -3.6888794541139362474   -595.4754463216397   -39.98347520881802\n",
            "5 th iteration, pr =  -639.14780098457160884   -639.14780098457160884   [[0. 1. 1. 2. 3. 1. 1. 1. 2. 0. 0. 3.]]\n"
          ]
        },
        {
          "output_type": "stream",
          "name": "stderr",
          "text": [
            "\r  7%|▋         | 7/100 [00:13<02:45,  1.78s/it]"
          ]
        },
        {
          "output_type": "stream",
          "name": "stdout",
          "text": [
            "logpost  -3.6888794541139362474   -596.7579206587776   -33.193193147125314\n",
            "6 th iteration, pr =  -633.63999326001685697   -633.63999326001685697   [[0. 1. 1. 2. 3. 1. 1. 1. 2. 0. 0. 3.]]\n"
          ]
        },
        {
          "output_type": "stream",
          "name": "stderr",
          "text": [
            "\r  8%|▊         | 8/100 [00:15<02:48,  1.83s/it]"
          ]
        },
        {
          "output_type": "stream",
          "name": "stdout",
          "text": [
            "logpost  -3.4657359027997265471   -593.0447986630945   -31.57611642274285\n",
            "7 th iteration, pr =  -628.0866509886371012   -628.0866509886371012   [[0. 1. 0. 2. 3. 1. 1. 1. 2. 0. 0. 3.]]\n"
          ]
        },
        {
          "output_type": "stream",
          "name": "stderr",
          "text": [
            "\r  9%|▉         | 9/100 [00:17<02:44,  1.81s/it]"
          ]
        },
        {
          "output_type": "stream",
          "name": "stdout",
          "text": [
            "logpost  -3.4657359027997265471   -593.0447986630945   -31.57611642274285\n",
            "8 th iteration, pr =  -628.0866509886371012   -628.0866509886371012   [[0. 1. 0. 2. 3. 1. 1. 1. 2. 0. 0. 3.]]\n"
          ]
        },
        {
          "output_type": "stream",
          "name": "stderr",
          "text": [
            "\r 10%|█         | 10/100 [00:19<02:38,  1.77s/it]"
          ]
        },
        {
          "output_type": "stream",
          "name": "stdout",
          "text": [
            "logpost  -3.4657359027997265471   -593.4959720171709   -33.22515931441872\n",
            "9 th iteration, pr =  -630.18686723438930164   -628.0866509886371012   [[0. 1. 0. 2. 3. 1. 1. 1. 2. 0. 0. 3.]]\n"
          ]
        },
        {
          "output_type": "stream",
          "name": "stderr",
          "text": [
            "\r 11%|█         | 11/100 [00:21<02:35,  1.75s/it]"
          ]
        },
        {
          "output_type": "stream",
          "name": "stdout",
          "text": [
            "logpost  -2.0794415416798359283   -598.6329613751586   -31.74648580756209\n",
            "10 th iteration, pr =  -632.458888724400557   -628.0866509886371012   [[0. 1. 0. 2. 3. 1. 1. 1. 2. 0. 0. 3.]]\n"
          ]
        },
        {
          "output_type": "stream",
          "name": "stderr",
          "text": [
            "\r 12%|█▏        | 12/100 [00:22<02:32,  1.73s/it]"
          ]
        },
        {
          "output_type": "stream",
          "name": "stdout",
          "text": [
            "logpost  -2.0794415416798359283   -598.8762125862403   -35.075595632644124\n",
            "11 th iteration, pr =  -636.03124976056424494   -628.0866509886371012   [[0. 1. 0. 2. 3. 1. 1. 1. 2. 0. 0. 3.]]\n"
          ]
        },
        {
          "output_type": "stream",
          "name": "stderr",
          "text": [
            "\r 13%|█▎        | 13/100 [00:24<02:28,  1.71s/it]"
          ]
        },
        {
          "output_type": "stream",
          "name": "stdout",
          "text": [
            "logpost  -2.0794415416798359283   -596.7922094928606   -44.84764293923309\n",
            "12 th iteration, pr =  -643.71929397377351884   -628.0866509886371012   [[0. 1. 0. 2. 3. 1. 1. 1. 2. 0. 0. 3.]]\n"
          ]
        },
        {
          "output_type": "stream",
          "name": "stderr",
          "text": [
            "\r 14%|█▍        | 14/100 [00:26<02:28,  1.72s/it]"
          ]
        },
        {
          "output_type": "stream",
          "name": "stdout",
          "text": [
            "logpost  -2.4849066497880003658   -593.2489126122157   -43.22625161821548\n",
            "13 th iteration, pr =  -638.9600708802191691   -628.0866509886371012   [[0. 1. 0. 2. 3. 1. 1. 1. 2. 0. 0. 3.]]\n"
          ]
        },
        {
          "output_type": "stream",
          "name": "stderr",
          "text": [
            "\r 15%|█▌        | 15/100 [00:28<02:29,  1.76s/it]"
          ]
        },
        {
          "output_type": "stream",
          "name": "stdout",
          "text": [
            "logpost  -2.3025850929940456285   -595.9199489527201   -43.22625161821548\n",
            "14 th iteration, pr =  -641.4487856639296434   -628.0866509886371012   [[0. 1. 0. 2. 3. 1. 1. 1. 2. 0. 0. 3.]]\n"
          ]
        },
        {
          "output_type": "stream",
          "name": "stderr",
          "text": [
            "\r 16%|█▌        | 16/100 [00:29<02:25,  1.73s/it]"
          ]
        },
        {
          "output_type": "stream",
          "name": "stdout",
          "text": [
            "logpost  -2.3025850929940456285   -597.4064563397817   -39.331507295592104\n",
            "15 th iteration, pr =  -639.0405487283678478   -628.0866509886371012   [[0. 1. 0. 2. 3. 1. 1. 1. 2. 0. 0. 3.]]\n"
          ]
        },
        {
          "output_type": "stream",
          "name": "stderr",
          "text": [
            "\r 17%|█▋        | 17/100 [00:31<02:21,  1.71s/it]"
          ]
        },
        {
          "output_type": "stream",
          "name": "stdout",
          "text": [
            "logpost  -2.3025850929940456285   -599.6328283371587   -34.016019318497904\n",
            "16 th iteration, pr =  -635.95143274865063415   -628.0866509886371012   [[0. 1. 0. 2. 3. 1. 1. 1. 2. 0. 0. 3.]]\n"
          ]
        },
        {
          "output_type": "stream",
          "name": "stderr",
          "text": [
            "\r 18%|█▊        | 18/100 [00:33<02:19,  1.70s/it]"
          ]
        },
        {
          "output_type": "stream",
          "name": "stdout",
          "text": [
            "logpost  -2.4849066497880003658   -595.5544083579662   -33.08130752227598\n",
            "17 th iteration, pr =  -631.12062253003014556   -628.0866509886371012   [[0. 1. 0. 2. 3. 1. 1. 1. 2. 0. 0. 3.]]\n"
          ]
        },
        {
          "output_type": "stream",
          "name": "stderr",
          "text": [
            "\r 19%|█▉        | 19/100 [00:34<02:18,  1.71s/it]"
          ]
        },
        {
          "output_type": "stream",
          "name": "stdout",
          "text": [
            "logpost  -2.4849066497880003658   -593.2477271578109   -31.620497543898082\n",
            "18 th iteration, pr =  -627.3531313514969967   -627.3531313514969967   [[0. 1. 0. 2. 2. 1. 1. 1. 2. 0. 0. 3.]]\n"
          ]
        },
        {
          "output_type": "stream",
          "name": "stderr",
          "text": [
            "\r 20%|██        | 20/100 [00:36<02:15,  1.69s/it]"
          ]
        },
        {
          "output_type": "stream",
          "name": "stdout",
          "text": [
            "logpost  -2.4849066497880003658   -592.8448717211767   -30.49053079993549\n",
            "19 th iteration, pr =  -625.82030917090016553   -625.82030917090016553   [[0. 1. 0. 2. 2. 1. 1. 1. 2. 0. 0. 3.]]\n"
          ]
        },
        {
          "output_type": "stream",
          "name": "stderr",
          "text": [
            "\r 21%|██        | 21/100 [00:38<02:13,  1.69s/it]"
          ]
        },
        {
          "output_type": "stream",
          "name": "stdout",
          "text": [
            "logpost  -2.4849066497880003658   -591.757506113373   -33.74410909987684\n",
            "20 th iteration, pr =  -627.98652186303782097   -625.82030917090016553   [[0. 1. 0. 2. 2. 1. 1. 1. 2. 0. 0. 3.]]\n"
          ]
        },
        {
          "output_type": "stream",
          "name": "stderr",
          "text": [
            "\r 22%|██▏       | 22/100 [00:39<02:14,  1.72s/it]"
          ]
        },
        {
          "output_type": "stream",
          "name": "stdout",
          "text": [
            "logpost  -2.4849066497880003658   -591.757506113373   -33.74410909987684\n",
            "21 th iteration, pr =  -627.98652186303782097   -625.82030917090016553   [[0. 1. 0. 2. 2. 1. 1. 1. 2. 0. 0. 3.]]\n"
          ]
        },
        {
          "output_type": "stream",
          "name": "stderr",
          "text": [
            "\r 23%|██▎       | 23/100 [00:41<02:12,  1.73s/it]"
          ]
        },
        {
          "output_type": "stream",
          "name": "stdout",
          "text": [
            "logpost  -2.3025850929940456285   -592.5260859367846   -36.46980168829759\n",
            "22 th iteration, pr =  -631.29847271807626424   -625.82030917090016553   [[0. 1. 0. 2. 2. 1. 1. 1. 2. 0. 0. 3.]]\n"
          ]
        },
        {
          "output_type": "stream",
          "name": "stderr",
          "text": [
            "\r 24%|██▍       | 24/100 [00:43<02:10,  1.72s/it]"
          ]
        },
        {
          "output_type": "stream",
          "name": "stdout",
          "text": [
            "logpost  -2.3025850929940456285   -596.1968355436437   -32.506106598052114\n",
            "23 th iteration, pr =  -631.0055272346898742   -625.82030917090016553   [[0. 1. 0. 2. 2. 1. 1. 1. 2. 0. 0. 3.]]\n"
          ]
        },
        {
          "output_type": "stream",
          "name": "stderr",
          "text": [
            "\r 25%|██▌       | 25/100 [00:45<02:09,  1.73s/it]"
          ]
        },
        {
          "output_type": "stream",
          "name": "stdout",
          "text": [
            "logpost  -2.3025850929940456285   -594.3991106607393   -33.56581184663503\n",
            "24 th iteration, pr =  -630.2675076003683993   -625.82030917090016553   [[0. 1. 0. 2. 2. 1. 1. 1. 2. 0. 0. 3.]]\n"
          ]
        },
        {
          "output_type": "stream",
          "name": "stderr",
          "text": [
            "\r 26%|██▌       | 26/100 [00:46<02:06,  1.71s/it]"
          ]
        },
        {
          "output_type": "stream",
          "name": "stdout",
          "text": [
            "logpost  -2.4849066497880003658   -593.3012519826781   -36.20144939871993\n",
            "25 th iteration, pr =  -631.98760803118601226   -625.82030917090016553   [[0. 1. 0. 2. 2. 1. 1. 1. 2. 0. 0. 3.]]\n"
          ]
        },
        {
          "output_type": "stream",
          "name": "stderr",
          "text": [
            "\r 27%|██▋       | 27/100 [00:48<02:03,  1.69s/it]"
          ]
        },
        {
          "output_type": "stream",
          "name": "stdout",
          "text": [
            "logpost  -2.0794415416798359283   -593.3992497107519   -30.968334961385068\n",
            "26 th iteration, pr =  -626.44702621381676416   -625.82030917090016553   [[0. 1. 0. 2. 2. 1. 1. 1. 2. 0. 0. 3.]]\n"
          ]
        },
        {
          "output_type": "stream",
          "name": "stderr",
          "text": [
            "\r 28%|██▊       | 28/100 [00:50<02:02,  1.70s/it]"
          ]
        },
        {
          "output_type": "stream",
          "name": "stdout",
          "text": [
            "logpost  -2.0794415416798359283   -592.3149370049364   -32.822529610355474\n",
            "27 th iteration, pr =  -627.21690815697169236   -625.82030917090016553   [[0. 1. 0. 2. 2. 1. 1. 1. 2. 0. 0. 3.]]\n"
          ]
        },
        {
          "output_type": "stream",
          "name": "stderr",
          "text": [
            "\r 29%|██▉       | 29/100 [00:51<02:03,  1.73s/it]"
          ]
        },
        {
          "output_type": "stream",
          "name": "stdout",
          "text": [
            "logpost  -2.4849066497880003658   -589.1410933114131   -32.822529610355474\n",
            "28 th iteration, pr =  -624.4485295715565756   -624.4485295715565756   [[0. 1. 0. 2. 2. 1. 1. 1. 2. 0. 0. 3.]]\n"
          ]
        },
        {
          "output_type": "stream",
          "name": "stderr",
          "text": [
            "\r 30%|███       | 30/100 [00:53<02:03,  1.77s/it]"
          ]
        },
        {
          "output_type": "stream",
          "name": "stdout",
          "text": [
            "logpost  -2.4849066497880003658   -589.1410933114131   -32.822529610355474\n",
            "29 th iteration, pr =  -624.4485295715565756   -624.4485295715565756   [[0. 1. 0. 2. 2. 1. 1. 1. 2. 0. 0. 3.]]\n"
          ]
        },
        {
          "output_type": "stream",
          "name": "stderr",
          "text": [
            "\r 31%|███       | 31/100 [00:55<01:59,  1.74s/it]"
          ]
        },
        {
          "output_type": "stream",
          "name": "stdout",
          "text": [
            "logpost  -2.4849066497880003658   -589.1410933114131   -32.822529610355474\n",
            "30 th iteration, pr =  -624.4485295715565756   -624.4485295715565756   [[0. 1. 0. 2. 2. 1. 1. 1. 2. 0. 0. 3.]]\n"
          ]
        },
        {
          "output_type": "stream",
          "name": "stderr",
          "text": [
            "\r 32%|███▏      | 32/100 [00:57<01:56,  1.72s/it]"
          ]
        },
        {
          "output_type": "stream",
          "name": "stdout",
          "text": [
            "logpost  -2.4849066497880003658   -588.7146012630807   -31.42699587863627\n",
            "31 th iteration, pr =  -622.6265037915049505   -622.6265037915049505   [[0. 1. 0. 2. 2. 1. 1. 1. 2. 0. 0. 3.]]\n"
          ]
        },
        {
          "output_type": "stream",
          "name": "stderr",
          "text": [
            "\r 33%|███▎      | 33/100 [00:58<01:54,  1.72s/it]"
          ]
        },
        {
          "output_type": "stream",
          "name": "stdout",
          "text": [
            "logpost  -3.4657359027997265471   -588.6893731488599   -31.42699587863627\n",
            "32 th iteration, pr =  -623.58210493029588184   -622.6265037915049505   [[0. 1. 0. 2. 3. 1. 1. 1. 2. 0. 0. 3.]]\n"
          ]
        },
        {
          "output_type": "stream",
          "name": "stderr",
          "text": [
            "\r 34%|███▍      | 34/100 [01:00<01:54,  1.73s/it]"
          ]
        },
        {
          "output_type": "stream",
          "name": "stdout",
          "text": [
            "logpost  -3.4657359027997265471   -588.6893731488599   -31.42699587863627\n",
            "33 th iteration, pr =  -623.58210493029588184   -622.6265037915049505   [[0. 1. 0. 2. 3. 1. 1. 1. 2. 0. 0. 3.]]\n"
          ]
        },
        {
          "output_type": "stream",
          "name": "stderr",
          "text": [
            "\r 35%|███▌      | 35/100 [01:02<01:52,  1.74s/it]"
          ]
        },
        {
          "output_type": "stream",
          "name": "stdout",
          "text": [
            "logpost  -2.4849066497880003658   -586.0232205942394   -34.69307384481168\n",
            "34 th iteration, pr =  -623.2012010888391118   -622.6265037915049505   [[0. 1. 0. 2. 3. 1. 1. 1. 2. 0. 0. 3.]]\n"
          ]
        },
        {
          "output_type": "stream",
          "name": "stderr",
          "text": [
            "\r 36%|███▌      | 36/100 [01:04<01:52,  1.75s/it]"
          ]
        },
        {
          "output_type": "stream",
          "name": "stdout",
          "text": [
            "logpost  -2.4849066497880003658   -591.4035249098295   -34.270137214689925\n",
            "35 th iteration, pr =  -628.15856877430738203   -622.6265037915049505   [[0. 1. 0. 2. 3. 1. 1. 1. 2. 0. 0. 3.]]\n"
          ]
        },
        {
          "output_type": "stream",
          "name": "stderr",
          "text": [
            "\r 37%|███▋      | 37/100 [01:05<01:41,  1.62s/it]"
          ]
        },
        {
          "output_type": "stream",
          "name": "stdout",
          "text": [
            "logpost  -2.4849066497880003658   -591.7385459213731   -26.195786389362794\n",
            "36 th iteration, pr =  -620.4192389605238831   -620.4192389605238831   [[0. 1. 0. 1. 2. 1. 1. 1. 1. 0. 0. 2.]]\n"
          ]
        },
        {
          "output_type": "stream",
          "name": "stderr",
          "text": [
            "\r 38%|███▊      | 38/100 [01:06<01:32,  1.49s/it]"
          ]
        },
        {
          "output_type": "stream",
          "name": "stdout",
          "text": [
            "logpost  -2.70805020110221008   -592.1872427284015   -26.195786389362794\n",
            "37 th iteration, pr =  -621.0910793188665475   -620.4192389605238831   [[0. 1. 0. 2. 2. 1. 1. 1. 1. 0. 0. 2.]]\n"
          ]
        },
        {
          "output_type": "stream",
          "name": "stderr",
          "text": [
            "\r 39%|███▉      | 39/100 [01:07<01:25,  1.40s/it]"
          ]
        },
        {
          "output_type": "stream",
          "name": "stdout",
          "text": [
            "logpost  -2.4849066497880003658   -591.7385459213731   -26.195786389362794\n",
            "38 th iteration, pr =  -620.4192389605238831   -620.4192389605238831   [[0. 1. 0. 2. 2. 1. 1. 1. 1. 0. 0. 2.]]\n"
          ]
        },
        {
          "output_type": "stream",
          "name": "stderr",
          "text": [
            "\r 40%|████      | 40/100 [01:09<01:20,  1.34s/it]"
          ]
        },
        {
          "output_type": "stream",
          "name": "stdout",
          "text": [
            "logpost  -2.4849066497880003658   -591.7385459213731   -26.195786389362794\n",
            "39 th iteration, pr =  -620.4192389605238831   -620.4192389605238831   [[0. 1. 0. 2. 2. 1. 1. 1. 1. 0. 0. 2.]]\n"
          ]
        },
        {
          "output_type": "stream",
          "name": "stderr",
          "text": [
            "\r 41%|████      | 41/100 [01:10<01:16,  1.30s/it]"
          ]
        },
        {
          "output_type": "stream",
          "name": "stdout",
          "text": [
            "logpost  -2.4849066497880003658   -591.7385459213731   -26.195786389362794\n",
            "40 th iteration, pr =  -620.4192389605238831   -620.4192389605238831   [[0. 1. 0. 2. 2. 1. 1. 1. 1. 0. 0. 2.]]\n"
          ]
        },
        {
          "output_type": "stream",
          "name": "stderr",
          "text": [
            "\r 42%|████▏     | 42/100 [01:11<01:13,  1.27s/it]"
          ]
        },
        {
          "output_type": "stream",
          "name": "stdout",
          "text": [
            "logpost  -2.4849066497880003658   -591.7385459213731   -26.195786389362794\n",
            "41 th iteration, pr =  -620.4192389605238831   -620.4192389605238831   [[0. 1. 0. 2. 2. 1. 1. 1. 1. 0. 0. 2.]]\n"
          ]
        },
        {
          "output_type": "stream",
          "name": "stderr",
          "text": [
            "\r 43%|████▎     | 43/100 [01:12<01:10,  1.24s/it]"
          ]
        },
        {
          "output_type": "stream",
          "name": "stdout",
          "text": [
            "logpost  -2.4849066497880003658   -591.7385459213731   -26.195786389362794\n",
            "42 th iteration, pr =  -620.4192389605238831   -620.4192389605238831   [[0. 1. 0. 2. 2. 1. 1. 1. 1. 0. 0. 2.]]\n"
          ]
        },
        {
          "output_type": "stream",
          "name": "stderr",
          "text": [
            "\r 44%|████▍     | 44/100 [01:13<01:08,  1.23s/it]"
          ]
        },
        {
          "output_type": "stream",
          "name": "stdout",
          "text": [
            "logpost  -2.4849066497880003658   -591.7385459213731   -26.195786389362794\n",
            "43 th iteration, pr =  -620.4192389605238831   -620.4192389605238831   [[0. 1. 0. 2. 2. 1. 1. 1. 1. 0. 0. 2.]]\n"
          ]
        },
        {
          "output_type": "stream",
          "name": "stderr",
          "text": [
            "\r 45%|████▌     | 45/100 [01:15<01:07,  1.23s/it]"
          ]
        },
        {
          "output_type": "stream",
          "name": "stdout",
          "text": [
            "logpost  -2.4849066497880003658   -591.7385459213731   -26.195786389362794\n",
            "44 th iteration, pr =  -620.4192389605238831   -620.4192389605238831   [[0. 1. 0. 2. 2. 1. 1. 1. 1. 0. 0. 2.]]\n"
          ]
        },
        {
          "output_type": "stream",
          "name": "stderr",
          "text": [
            "\r 46%|████▌     | 46/100 [01:16<01:07,  1.26s/it]"
          ]
        },
        {
          "output_type": "stream",
          "name": "stdout",
          "text": [
            "logpost  -2.4849066497880003658   -591.7385459213731   -26.195786389362794\n",
            "45 th iteration, pr =  -620.4192389605238831   -620.4192389605238831   [[0. 1. 0. 2. 2. 1. 1. 1. 1. 0. 0. 2.]]\n"
          ]
        },
        {
          "output_type": "stream",
          "name": "stderr",
          "text": [
            "\r 47%|████▋     | 47/100 [01:17<01:06,  1.26s/it]"
          ]
        },
        {
          "output_type": "stream",
          "name": "stdout",
          "text": [
            "logpost  -2.4849066497880003658   -591.7385459213731   -26.195786389362794\n",
            "46 th iteration, pr =  -620.4192389605238831   -620.4192389605238831   [[0. 1. 0. 2. 2. 1. 1. 1. 1. 0. 0. 2.]]\n"
          ]
        },
        {
          "output_type": "stream",
          "name": "stderr",
          "text": [
            "\r 48%|████▊     | 48/100 [01:18<01:06,  1.28s/it]"
          ]
        },
        {
          "output_type": "stream",
          "name": "stdout",
          "text": [
            "logpost  -2.4849066497880003658   -591.7385459213731   -26.195786389362794\n",
            "47 th iteration, pr =  -620.4192389605238831   -620.4192389605238831   [[0. 1. 0. 2. 2. 1. 1. 1. 1. 0. 0. 2.]]\n"
          ]
        },
        {
          "output_type": "stream",
          "name": "stderr",
          "text": [
            "\r 49%|████▉     | 49/100 [01:20<01:04,  1.27s/it]"
          ]
        },
        {
          "output_type": "stream",
          "name": "stdout",
          "text": [
            "logpost  -2.4849066497880003658   -591.7385459213731   -26.195786389362794\n",
            "48 th iteration, pr =  -620.4192389605238831   -620.4192389605238831   [[0. 1. 0. 2. 2. 1. 1. 1. 1. 0. 0. 2.]]\n"
          ]
        },
        {
          "output_type": "stream",
          "name": "stderr",
          "text": [
            "\r 50%|█████     | 50/100 [01:21<01:02,  1.26s/it]"
          ]
        },
        {
          "output_type": "stream",
          "name": "stdout",
          "text": [
            "logpost  -2.4849066497880003658   -591.7385459213731   -26.195786389362794\n",
            "49 th iteration, pr =  -620.4192389605238831   -620.4192389605238831   [[0. 1. 0. 2. 2. 1. 1. 1. 1. 0. 0. 2.]]\n"
          ]
        },
        {
          "output_type": "stream",
          "name": "stderr",
          "text": [
            "\r 51%|█████     | 51/100 [01:22<01:00,  1.24s/it]"
          ]
        },
        {
          "output_type": "stream",
          "name": "stdout",
          "text": [
            "logpost  -2.4849066497880003658   -591.7385459213731   -26.195786389362794\n",
            "50 th iteration, pr =  -620.4192389605238831   -620.4192389605238831   [[0. 1. 0. 2. 2. 1. 1. 1. 1. 0. 0. 2.]]\n"
          ]
        },
        {
          "output_type": "stream",
          "name": "stderr",
          "text": [
            "\r 52%|█████▏    | 52/100 [01:23<00:58,  1.22s/it]"
          ]
        },
        {
          "output_type": "stream",
          "name": "stdout",
          "text": [
            "logpost  -2.4849066497880003658   -591.7385459213731   -26.195786389362794\n",
            "51 th iteration, pr =  -620.4192389605238831   -620.4192389605238831   [[0. 1. 0. 2. 2. 1. 1. 1. 1. 0. 0. 2.]]\n"
          ]
        },
        {
          "output_type": "stream",
          "name": "stderr",
          "text": [
            "\r 53%|█████▎    | 53/100 [01:24<00:56,  1.21s/it]"
          ]
        },
        {
          "output_type": "stream",
          "name": "stdout",
          "text": [
            "logpost  -1.9459101490553133607   -594.7859875131697   -26.195786389362794\n",
            "52 th iteration, pr =  -622.9276840515878514   -620.4192389605238831   [[0. 1. 0. 2. 2. 1. 1. 1. 1. 0. 0. 2.]]\n"
          ]
        },
        {
          "output_type": "stream",
          "name": "stderr",
          "text": [
            "\r 54%|█████▍    | 54/100 [01:26<00:56,  1.22s/it]"
          ]
        },
        {
          "output_type": "stream",
          "name": "stdout",
          "text": [
            "logpost  -1.9459101490553133607   -596.9338243067291   -23.342615032636708\n",
            "53 th iteration, pr =  -622.22234948842111446   -620.4192389605238831   [[0. 1. 0. 2. 2. 1. 1. 1. 1. 0. 0. 2.]]\n"
          ]
        },
        {
          "output_type": "stream",
          "name": "stderr",
          "text": [
            "\r 55%|█████▌    | 55/100 [01:27<00:54,  1.20s/it]"
          ]
        },
        {
          "output_type": "stream",
          "name": "stdout",
          "text": [
            "logpost  -1.9459101490553133607   -596.3554857191588   -24.386648006147073\n",
            "54 th iteration, pr =  -622.6880438743611509   -620.4192389605238831   [[0. 1. 0. 2. 2. 1. 1. 1. 1. 0. 0. 2.]]\n"
          ]
        },
        {
          "output_type": "stream",
          "name": "stderr",
          "text": [
            "\r 56%|█████▌    | 56/100 [01:28<00:52,  1.19s/it]"
          ]
        },
        {
          "output_type": "stream",
          "name": "stdout",
          "text": [
            "logpost  -1.9459101490553133607   -599.1721517900751   -30.100783340049148\n",
            "55 th iteration, pr =  -631.218845279179538   -620.4192389605238831   [[0. 1. 0. 2. 2. 1. 1. 1. 1. 0. 0. 2.]]\n"
          ]
        },
        {
          "output_type": "stream",
          "name": "stderr",
          "text": [
            "\r 57%|█████▋    | 57/100 [01:29<00:52,  1.21s/it]"
          ]
        },
        {
          "output_type": "stream",
          "name": "stdout",
          "text": [
            "logpost  -1.9459101490553133607   -596.9170333271481   -25.74960880948046\n",
            "56 th iteration, pr =  -624.61255228568391995   -620.4192389605238831   [[0. 1. 0. 2. 2. 1. 1. 1. 1. 0. 0. 2.]]\n"
          ]
        },
        {
          "output_type": "stream",
          "name": "stderr",
          "text": [
            "\r 58%|█████▊    | 58/100 [01:31<00:53,  1.26s/it]"
          ]
        },
        {
          "output_type": "stream",
          "name": "stdout",
          "text": [
            "logpost  -1.9459101490553133607   -596.9170333271481   -25.74960880948046\n",
            "57 th iteration, pr =  -624.61255228568391995   -620.4192389605238831   [[0. 1. 0. 2. 2. 1. 1. 1. 1. 0. 0. 2.]]\n"
          ]
        },
        {
          "output_type": "stream",
          "name": "stderr",
          "text": [
            "\r 59%|█████▉    | 59/100 [01:32<00:50,  1.24s/it]"
          ]
        },
        {
          "output_type": "stream",
          "name": "stdout",
          "text": [
            "logpost  -1.9459101490553133607   -595.4003283922192   -27.92688848327324\n",
            "58 th iteration, pr =  -625.2731270245477456   -620.4192389605238831   [[0. 1. 0. 2. 2. 1. 1. 1. 1. 0. 0. 2.]]\n"
          ]
        },
        {
          "output_type": "stream",
          "name": "stderr",
          "text": [
            "\r 60%|██████    | 60/100 [01:33<00:49,  1.23s/it]"
          ]
        },
        {
          "output_type": "stream",
          "name": "stdout",
          "text": [
            "logpost  -1.9459101490553133607   -595.4003283922192   -27.92688848327324\n",
            "59 th iteration, pr =  -625.2731270245477456   -620.4192389605238831   [[0. 1. 0. 2. 2. 1. 1. 1. 1. 0. 0. 2.]]\n"
          ]
        },
        {
          "output_type": "stream",
          "name": "stderr",
          "text": [
            "\r 61%|██████    | 61/100 [01:34<00:47,  1.22s/it]"
          ]
        },
        {
          "output_type": "stream",
          "name": "stdout",
          "text": [
            "logpost  -1.7917594692280550563   -596.0172826406896   -27.92688848327324\n",
            "60 th iteration, pr =  -625.73593059319087983   -620.4192389605238831   [[0. 1. 0. 2. 2. 1. 1. 1. 1. 0. 0. 2.]]\n"
          ]
        },
        {
          "output_type": "stream",
          "name": "stderr",
          "text": [
            "\r 62%|██████▏   | 62/100 [01:35<00:46,  1.22s/it]"
          ]
        },
        {
          "output_type": "stream",
          "name": "stdout",
          "text": [
            "logpost  -1.9459101490553133607   -595.4003283922192   -27.92688848327324\n",
            "61 th iteration, pr =  -625.2731270245477456   -620.4192389605238831   [[0. 1. 0. 2. 2. 1. 1. 1. 1. 0. 0. 2.]]\n"
          ]
        },
        {
          "output_type": "stream",
          "name": "stderr",
          "text": [
            "\r 63%|██████▎   | 63/100 [01:37<00:44,  1.20s/it]"
          ]
        },
        {
          "output_type": "stream",
          "name": "stdout",
          "text": [
            "logpost  -1.9459101490553133607   -595.0483792849996   -27.601649930320235\n",
            "62 th iteration, pr =  -624.59593936437510375   -620.4192389605238831   [[0. 1. 0. 2. 2. 1. 1. 1. 1. 0. 0. 2.]]\n"
          ]
        },
        {
          "output_type": "stream",
          "name": "stderr",
          "text": [
            "\r 64%|██████▍   | 64/100 [01:38<00:42,  1.19s/it]"
          ]
        },
        {
          "output_type": "stream",
          "name": "stdout",
          "text": [
            "logpost  -1.9459101490553133607   -595.5797998898987   -31.304495539354125\n",
            "63 th iteration, pr =  -628.83020557830814734   -620.4192389605238831   [[0. 1. 0. 2. 2. 1. 1. 1. 1. 0. 0. 2.]]\n"
          ]
        },
        {
          "output_type": "stream",
          "name": "stderr",
          "text": [
            "\r 65%|██████▌   | 65/100 [01:39<00:41,  1.19s/it]"
          ]
        },
        {
          "output_type": "stream",
          "name": "stdout",
          "text": [
            "logpost  -1.9459101490553133607   -595.5797998898987   -31.304495539354125\n",
            "64 th iteration, pr =  -628.83020557830814734   -620.4192389605238831   [[0. 1. 0. 2. 2. 1. 1. 1. 1. 0. 0. 2.]]\n"
          ]
        },
        {
          "output_type": "stream",
          "name": "stderr",
          "text": [
            "\r 66%|██████▌   | 66/100 [01:40<00:40,  1.20s/it]"
          ]
        },
        {
          "output_type": "stream",
          "name": "stdout",
          "text": [
            "logpost  -2.4849066497880003658   -595.4799989998634   -31.304495539354125\n",
            "65 th iteration, pr =  -629.2694011890054946   -620.4192389605238831   [[0. 1. 0. 2. 2. 1. 1. 1. 1. 0. 0. 2.]]\n"
          ]
        },
        {
          "output_type": "stream",
          "name": "stderr",
          "text": [
            "\r 67%|██████▋   | 67/100 [01:42<00:40,  1.23s/it]"
          ]
        },
        {
          "output_type": "stream",
          "name": "stdout",
          "text": [
            "logpost  -2.4849066497880003658   -595.4799989998634   -31.304495539354125\n",
            "66 th iteration, pr =  -629.2694011890054946   -620.4192389605238831   [[0. 1. 0. 2. 2. 1. 1. 1. 1. 0. 0. 2.]]\n"
          ]
        },
        {
          "output_type": "stream",
          "name": "stderr",
          "text": [
            "\r 68%|██████▊   | 68/100 [01:43<00:40,  1.25s/it]"
          ]
        },
        {
          "output_type": "stream",
          "name": "stdout",
          "text": [
            "logpost  -2.4849066497880003658   -595.2798196779105   -31.304495539354125\n",
            "67 th iteration, pr =  -629.069221867052621   -620.4192389605238831   [[0. 1. 0. 2. 2. 1. 1. 1. 1. 0. 0. 2.]]\n"
          ]
        },
        {
          "output_type": "stream",
          "name": "stderr",
          "text": [
            "\r 69%|██████▉   | 69/100 [01:44<00:39,  1.27s/it]"
          ]
        },
        {
          "output_type": "stream",
          "name": "stdout",
          "text": [
            "logpost  -2.4849066497880003658   -594.7776470189647   -24.476098222718925\n",
            "68 th iteration, pr =  -621.7386518914715965   -620.4192389605238831   [[0. 1. 0. 2. 2. 1. 1. 1. 1. 0. 0. 2.]]\n"
          ]
        },
        {
          "output_type": "stream",
          "name": "stderr",
          "text": [
            "\r 70%|███████   | 70/100 [01:45<00:37,  1.26s/it]"
          ]
        },
        {
          "output_type": "stream",
          "name": "stdout",
          "text": [
            "logpost  -2.4849066497880003658   -594.7776470189647   -24.476098222718925\n",
            "69 th iteration, pr =  -621.7386518914715965   -620.4192389605238831   [[0. 1. 0. 2. 2. 1. 1. 1. 1. 0. 0. 2.]]\n"
          ]
        },
        {
          "output_type": "stream",
          "name": "stderr",
          "text": [
            "\r 71%|███████   | 71/100 [01:47<00:36,  1.24s/it]"
          ]
        },
        {
          "output_type": "stream",
          "name": "stdout",
          "text": [
            "logpost  -2.4849066497880003658   -594.7776470189647   -24.476098222718925\n",
            "70 th iteration, pr =  -621.7386518914715965   -620.4192389605238831   [[0. 1. 0. 2. 2. 1. 1. 1. 1. 0. 0. 2.]]\n"
          ]
        },
        {
          "output_type": "stream",
          "name": "stderr",
          "text": [
            "\r 72%|███████▏  | 72/100 [01:48<00:34,  1.22s/it]"
          ]
        },
        {
          "output_type": "stream",
          "name": "stdout",
          "text": [
            "logpost  -2.4849066497880003658   -594.7776470189647   -24.476098222718925\n",
            "71 th iteration, pr =  -621.7386518914715965   -620.4192389605238831   [[0. 1. 0. 2. 2. 1. 1. 1. 1. 0. 0. 2.]]\n"
          ]
        },
        {
          "output_type": "stream",
          "name": "stderr",
          "text": [
            "\r 73%|███████▎  | 73/100 [01:49<00:32,  1.22s/it]"
          ]
        },
        {
          "output_type": "stream",
          "name": "stdout",
          "text": [
            "logpost  -2.4849066497880003658   -590.2978084092722   -33.33749420662764\n",
            "72 th iteration, pr =  -626.1202092656878322   -620.4192389605238831   [[0. 1. 0. 2. 2. 1. 1. 1. 1. 0. 0. 2.]]\n"
          ]
        },
        {
          "output_type": "stream",
          "name": "stderr",
          "text": [
            "\r 74%|███████▍  | 74/100 [01:50<00:31,  1.21s/it]"
          ]
        },
        {
          "output_type": "stream",
          "name": "stdout",
          "text": [
            "logpost  -2.4849066497880003658   -590.2978084092722   -33.33749420662764\n",
            "73 th iteration, pr =  -626.1202092656878322   -620.4192389605238831   [[0. 1. 0. 2. 2. 1. 1. 1. 1. 0. 0. 2.]]\n"
          ]
        },
        {
          "output_type": "stream",
          "name": "stderr",
          "text": [
            "\r 75%|███████▌  | 75/100 [01:51<00:30,  1.21s/it]"
          ]
        },
        {
          "output_type": "stream",
          "name": "stdout",
          "text": [
            "logpost  -2.4849066497880003658   -590.2978084092722   -33.33749420662764\n",
            "74 th iteration, pr =  -626.1202092656878322   -620.4192389605238831   [[0. 1. 0. 2. 2. 1. 1. 1. 1. 0. 0. 2.]]\n"
          ]
        },
        {
          "output_type": "stream",
          "name": "stderr",
          "text": [
            "\r 76%|███████▌  | 76/100 [01:53<00:29,  1.22s/it]"
          ]
        },
        {
          "output_type": "stream",
          "name": "stdout",
          "text": [
            "logpost  -2.4849066497880003658   -590.2978084092722   -33.33749420662764\n",
            "75 th iteration, pr =  -626.1202092656878322   -620.4192389605238831   [[0. 1. 0. 2. 2. 1. 1. 1. 1. 0. 0. 2.]]\n"
          ]
        },
        {
          "output_type": "stream",
          "name": "stderr",
          "text": [
            "\r 77%|███████▋  | 77/100 [01:54<00:28,  1.23s/it]"
          ]
        },
        {
          "output_type": "stream",
          "name": "stdout",
          "text": [
            "logpost  -2.4849066497880003658   -590.2978084092722   -33.33749420662764\n",
            "76 th iteration, pr =  -626.1202092656878322   -620.4192389605238831   [[0. 1. 0. 2. 2. 1. 1. 1. 1. 0. 0. 2.]]\n"
          ]
        },
        {
          "output_type": "stream",
          "name": "stderr",
          "text": [
            "\r 78%|███████▊  | 78/100 [01:55<00:27,  1.24s/it]"
          ]
        },
        {
          "output_type": "stream",
          "name": "stdout",
          "text": [
            "logpost  -2.4849066497880003658   -590.2978084092722   -33.33749420662764\n",
            "77 th iteration, pr =  -626.1202092656878322   -620.4192389605238831   [[0. 1. 0. 2. 2. 1. 1. 1. 1. 0. 0. 2.]]\n"
          ]
        },
        {
          "output_type": "stream",
          "name": "stderr",
          "text": [
            "\r 79%|███████▉  | 79/100 [01:56<00:26,  1.25s/it]"
          ]
        },
        {
          "output_type": "stream",
          "name": "stdout",
          "text": [
            "logpost  -2.4849066497880003658   -590.2978084092722   -33.33749420662764\n",
            "78 th iteration, pr =  -626.1202092656878322   -620.4192389605238831   [[0. 1. 0. 2. 2. 1. 1. 1. 1. 0. 0. 2.]]\n"
          ]
        },
        {
          "output_type": "stream",
          "name": "stderr",
          "text": [
            "\r 80%|████████  | 80/100 [01:58<00:24,  1.22s/it]"
          ]
        },
        {
          "output_type": "stream",
          "name": "stdout",
          "text": [
            "logpost  -2.4849066497880003658   -590.2978084092722   -33.33749420662764\n",
            "79 th iteration, pr =  -626.1202092656878322   -620.4192389605238831   [[0. 1. 0. 2. 2. 1. 1. 1. 1. 0. 0. 2.]]\n"
          ]
        },
        {
          "output_type": "stream",
          "name": "stderr",
          "text": [
            "\r 81%|████████  | 81/100 [01:59<00:23,  1.21s/it]"
          ]
        },
        {
          "output_type": "stream",
          "name": "stdout",
          "text": [
            "logpost  -2.4849066497880003658   -590.2978084092722   -33.33749420662764\n",
            "80 th iteration, pr =  -626.1202092656878322   -620.4192389605238831   [[0. 1. 0. 2. 2. 1. 1. 1. 1. 0. 0. 2.]]\n"
          ]
        },
        {
          "output_type": "stream",
          "name": "stderr",
          "text": [
            "\r 82%|████████▏ | 82/100 [02:00<00:21,  1.21s/it]"
          ]
        },
        {
          "output_type": "stream",
          "name": "stdout",
          "text": [
            "logpost  -2.4849066497880003658   -590.2978084092722   -33.33749420662764\n",
            "81 th iteration, pr =  -626.1202092656878322   -620.4192389605238831   [[0. 1. 0. 2. 2. 1. 1. 1. 1. 0. 0. 2.]]\n"
          ]
        },
        {
          "output_type": "stream",
          "name": "stderr",
          "text": [
            "\r 83%|████████▎ | 83/100 [02:01<00:20,  1.21s/it]"
          ]
        },
        {
          "output_type": "stream",
          "name": "stdout",
          "text": [
            "logpost  -2.4849066497880003658   -591.7818132199434   -25.059246457482217\n",
            "82 th iteration, pr =  -619.3259663272136053   -619.3259663272136053   [[0. 1. 0. 1. 2. 1. 1. 1. 1. 0. 0. 2.]]\n"
          ]
        },
        {
          "output_type": "stream",
          "name": "stderr",
          "text": [
            "\r 84%|████████▍ | 84/100 [02:02<00:19,  1.21s/it]"
          ]
        },
        {
          "output_type": "stream",
          "name": "stdout",
          "text": [
            "logpost  -2.4849066497880003658   -591.7818132199434   -25.059246457482217\n",
            "83 th iteration, pr =  -619.3259663272136053   -619.3259663272136053   [[0. 1. 0. 1. 2. 1. 1. 1. 1. 0. 0. 2.]]\n"
          ]
        },
        {
          "output_type": "stream",
          "name": "stderr",
          "text": [
            "\r 85%|████████▌ | 85/100 [02:04<00:17,  1.20s/it]"
          ]
        },
        {
          "output_type": "stream",
          "name": "stdout",
          "text": [
            "logpost  -2.4849066497880003658   -593.5320615443167   -26.74052269384938\n",
            "84 th iteration, pr =  -622.7574908879540403   -619.3259663272136053   [[0. 1. 0. 1. 2. 1. 1. 1. 1. 0. 0. 2.]]\n"
          ]
        },
        {
          "output_type": "stream",
          "name": "stderr",
          "text": [
            "\r 86%|████████▌ | 86/100 [02:05<00:16,  1.19s/it]"
          ]
        },
        {
          "output_type": "stream",
          "name": "stdout",
          "text": [
            "logpost  -2.4849066497880003658   -593.443703299537   -25.02752036021362\n",
            "85 th iteration, pr =  -620.9561303095386138   -619.3259663272136053   [[0. 1. 0. 1. 2. 1. 1. 1. 1. 0. 0. 2.]]\n"
          ]
        },
        {
          "output_type": "stream",
          "name": "stderr",
          "text": [
            "\r 87%|████████▋ | 87/100 [02:06<00:15,  1.21s/it]"
          ]
        },
        {
          "output_type": "stream",
          "name": "stdout",
          "text": [
            "logpost  -2.4849066497880003658   -593.443703299537   -25.02752036021362\n",
            "86 th iteration, pr =  -620.9561303095386138   -619.3259663272136053   [[0. 1. 0. 1. 2. 1. 1. 1. 1. 0. 0. 2.]]\n"
          ]
        },
        {
          "output_type": "stream",
          "name": "stderr",
          "text": [
            "\r 88%|████████▊ | 88/100 [02:07<00:14,  1.23s/it]"
          ]
        },
        {
          "output_type": "stream",
          "name": "stdout",
          "text": [
            "logpost  -2.4849066497880003658   -593.443703299537   -25.02752036021362\n",
            "87 th iteration, pr =  -620.9561303095386138   -619.3259663272136053   [[0. 1. 0. 1. 2. 1. 1. 1. 1. 0. 0. 2.]]\n"
          ]
        },
        {
          "output_type": "stream",
          "name": "stderr",
          "text": [
            "\r 89%|████████▉ | 89/100 [02:09<00:13,  1.27s/it]"
          ]
        },
        {
          "output_type": "stream",
          "name": "stdout",
          "text": [
            "logpost  -2.4849066497880003658   -593.443703299537   -25.02752036021362\n",
            "88 th iteration, pr =  -620.9561303095386138   -619.3259663272136053   [[0. 1. 0. 1. 2. 1. 1. 1. 1. 0. 0. 2.]]\n"
          ]
        },
        {
          "output_type": "stream",
          "name": "stderr",
          "text": [
            "\r 90%|█████████ | 90/100 [02:10<00:12,  1.25s/it]"
          ]
        },
        {
          "output_type": "stream",
          "name": "stdout",
          "text": [
            "logpost  -2.4849066497880003658   -593.443703299537   -25.02752036021362\n",
            "89 th iteration, pr =  -620.9561303095386138   -619.3259663272136053   [[0. 1. 0. 1. 2. 1. 1. 1. 1. 0. 0. 2.]]\n"
          ]
        },
        {
          "output_type": "stream",
          "name": "stderr",
          "text": [
            "\r 91%|█████████ | 91/100 [02:11<00:11,  1.23s/it]"
          ]
        },
        {
          "output_type": "stream",
          "name": "stdout",
          "text": [
            "logpost  -2.4849066497880003658   -593.443703299537   -25.02752036021362\n",
            "90 th iteration, pr =  -620.9561303095386138   -619.3259663272136053   [[0. 1. 0. 1. 2. 1. 1. 1. 1. 0. 0. 2.]]\n"
          ]
        },
        {
          "output_type": "stream",
          "name": "stderr",
          "text": [
            "\r 92%|█████████▏| 92/100 [02:12<00:09,  1.21s/it]"
          ]
        },
        {
          "output_type": "stream",
          "name": "stdout",
          "text": [
            "logpost  -2.4849066497880003658   -592.2523547969583   -27.12983357250504\n",
            "91 th iteration, pr =  -621.8670950192513822   -619.3259663272136053   [[0. 1. 0. 1. 2. 1. 1. 1. 1. 0. 0. 2.]]\n"
          ]
        },
        {
          "output_type": "stream",
          "name": "stderr",
          "text": [
            "\r 93%|█████████▎| 93/100 [02:13<00:08,  1.21s/it]"
          ]
        },
        {
          "output_type": "stream",
          "name": "stdout",
          "text": [
            "logpost  -2.4849066497880003658   -592.7106720499144   -28.22652689106603\n",
            "92 th iteration, pr =  -623.4221055907683948   -619.3259663272136053   [[0. 1. 0. 1. 2. 1. 1. 1. 1. 0. 0. 2.]]\n"
          ]
        },
        {
          "output_type": "stream",
          "name": "stderr",
          "text": [
            "\r 94%|█████████▍| 94/100 [02:15<00:07,  1.19s/it]"
          ]
        },
        {
          "output_type": "stream",
          "name": "stdout",
          "text": [
            "logpost  -2.4849066497880003658   -596.5883227340827   -26.898945506255316\n",
            "93 th iteration, pr =  -625.9721748901259972   -619.3259663272136053   [[0. 1. 0. 1. 2. 1. 1. 1. 1. 0. 0. 2.]]\n"
          ]
        },
        {
          "output_type": "stream",
          "name": "stderr",
          "text": [
            "\r 95%|█████████▌| 95/100 [02:16<00:05,  1.20s/it]"
          ]
        },
        {
          "output_type": "stream",
          "name": "stdout",
          "text": [
            "logpost  -2.4849066497880003658   -590.6038106577879   -27.214019851537863\n",
            "94 th iteration, pr =  -620.30273715911376664   -619.3259663272136053   [[0. 1. 0. 1. 2. 1. 1. 1. 1. 0. 0. 2.]]\n"
          ]
        },
        {
          "output_type": "stream",
          "name": "stderr",
          "text": [
            "\r 96%|█████████▌| 96/100 [02:17<00:04,  1.20s/it]"
          ]
        },
        {
          "output_type": "stream",
          "name": "stdout",
          "text": [
            "logpost  -2.4849066497880003658   -590.6038106577879   -27.214019851537863\n",
            "95 th iteration, pr =  -620.30273715911376664   -619.3259663272136053   [[0. 1. 0. 1. 2. 1. 1. 1. 1. 0. 0. 2.]]\n"
          ]
        },
        {
          "output_type": "stream",
          "name": "stderr",
          "text": [
            "\r 97%|█████████▋| 97/100 [02:18<00:03,  1.19s/it]"
          ]
        },
        {
          "output_type": "stream",
          "name": "stdout",
          "text": [
            "logpost  -2.4849066497880003658   -590.6038106577879   -27.214019851537863\n",
            "96 th iteration, pr =  -620.30273715911376664   -619.3259663272136053   [[0. 1. 0. 1. 2. 1. 1. 1. 1. 0. 0. 2.]]\n"
          ]
        },
        {
          "output_type": "stream",
          "name": "stderr",
          "text": [
            "\r 98%|█████████▊| 98/100 [02:19<00:02,  1.19s/it]"
          ]
        },
        {
          "output_type": "stream",
          "name": "stdout",
          "text": [
            "logpost  -2.4849066497880003658   -590.6038106577879   -27.214019851537863\n",
            "97 th iteration, pr =  -620.30273715911376664   -619.3259663272136053   [[0. 1. 0. 1. 2. 1. 1. 1. 1. 0. 0. 2.]]\n"
          ]
        },
        {
          "output_type": "stream",
          "name": "stderr",
          "text": [
            "\r 99%|█████████▉| 99/100 [02:21<00:01,  1.21s/it]"
          ]
        },
        {
          "output_type": "stream",
          "name": "stdout",
          "text": [
            "logpost  -2.4849066497880003658   -590.6038106577879   -27.214019851537863\n",
            "98 th iteration, pr =  -620.30273715911376664   -619.3259663272136053   [[0. 1. 0. 1. 2. 1. 1. 1. 1. 0. 0. 2.]]\n"
          ]
        },
        {
          "output_type": "stream",
          "name": "stderr",
          "text": [
            "100%|██████████| 100/100 [02:22<00:00,  1.42s/it]"
          ]
        },
        {
          "output_type": "stream",
          "name": "stdout",
          "text": [
            "logpost  -2.4849066497880003658   -590.6038106577879   -27.214019851537863\n",
            "99 th iteration, pr =  -620.30273715911376664   -619.3259663272136053   [[0. 1. 0. 1. 2. 1. 1. 1. 1. 0. 0. 2.]]\n",
            "association 0 1\n",
            "association 1 0\n",
            "association 0 1\n",
            "association 1 2\n",
            "association 2 2\n"
          ]
        },
        {
          "output_type": "stream",
          "name": "stderr",
          "text": [
            "\n"
          ]
        },
        {
          "output_type": "stream",
          "name": "stdout",
          "text": [
            "association 1 0\n",
            "association 1 0\n",
            "association 1 0\n",
            "association 1 2\n",
            "association 0 1\n",
            "association 0 1\n",
            "association 2 2\n",
            "EVD =  [4.055070287705376, 3.0067673592591815]\n",
            "original assignment [2 1 2 1 0 0 2 1 1 2 0 1 1 0 0 2 2 0]\n",
            "logpost  -13.494974660641414853   -984.8055548282259   -108.11712812248692\n",
            "init pr =  -1106.4176576113542549\n"
          ]
        },
        {
          "output_type": "stream",
          "name": "stderr",
          "text": [
            "  1%|          | 1/100 [00:02<04:30,  2.73s/it]"
          ]
        },
        {
          "output_type": "stream",
          "name": "stdout",
          "text": [
            "logpost  -6.356107660695891295   -932.0394235218265   -40.87569959002011\n",
            "0 th iteration, pr =  -979.2712307725425098   -979.2712307725425098   [[0. 4. 2. 0. 1. 5. 0. 0. 1. 4. 3. 2. 3. 4. 5. 3. 3. 0.]]\n"
          ]
        },
        {
          "output_type": "stream",
          "name": "stderr",
          "text": [
            "\r  2%|▏         | 2/100 [00:05<04:01,  2.47s/it]"
          ]
        },
        {
          "output_type": "stream",
          "name": "stdout",
          "text": [
            "logpost  -5.2574953720277816036   -904.7395753850465   -40.168285942019025\n",
            "1 th iteration, pr =  -950.16535669909327144   -950.16535669909327144   [[0. 4. 2. 0. 0. 4. 0. 0. 1. 0. 3. 2. 1. 4. 4. 3. 0. 0.]]\n"
          ]
        },
        {
          "output_type": "stream",
          "name": "stderr",
          "text": [
            "\r  3%|▎         | 3/100 [00:07<03:52,  2.40s/it]"
          ]
        },
        {
          "output_type": "stream",
          "name": "stdout",
          "text": [
            "logpost  -2.4849066497880003658   -906.3694251352513   -47.90908806741358\n",
            "2 th iteration, pr =  -956.7634198524528544   -950.16535669909327144   [[0. 0. 0. 0. 0. 4. 0. 0. 1. 0. 3. 2. 0. 4. 4. 3. 0. 0.]]\n"
          ]
        },
        {
          "output_type": "stream",
          "name": "stderr",
          "text": [
            "\r  4%|▍         | 4/100 [00:09<03:30,  2.20s/it]"
          ]
        },
        {
          "output_type": "stream",
          "name": "stdout",
          "text": [
            "logpost  -2.0794415416798359283   -907.1257734054672   -26.79530685685036\n",
            "3 th iteration, pr =  -936.00052180399735285   -936.00052180399735285   [[0. 0. 0. 0. 0. 3. 0. 3. 0. 0. 2. 1. 0. 3. 3. 1. 0. 0.]]\n"
          ]
        },
        {
          "output_type": "stream",
          "name": "stderr",
          "text": [
            "\r  5%|▌         | 5/100 [00:10<02:59,  1.89s/it]"
          ]
        },
        {
          "output_type": "stream",
          "name": "stdout",
          "text": [
            "logpost  -1.0986122886681097469   -898.6668100875801   -27.087780849666885\n",
            "4 th iteration, pr =  -926.8532032259150692   -926.8532032259150692   [[0. 0. 0. 0. 0. 2. 0. 0. 0. 0. 1. 0. 0. 2. 2. 0. 0. 0.]]\n"
          ]
        },
        {
          "output_type": "stream",
          "name": "stderr",
          "text": [
            "\r  6%|▌         | 6/100 [00:11<02:40,  1.71s/it]"
          ]
        },
        {
          "output_type": "stream",
          "name": "stdout",
          "text": [
            "logpost  -1.3862943611198906189   -894.092898125742   -21.245317114405697\n",
            "5 th iteration, pr =  -916.72450960126754166   -916.72450960126754166   [[0. 0. 0. 0. 2. 2. 0. 0. 0. 0. 1. 0. 0. 2. 2. 0. 0. 0.]]\n"
          ]
        },
        {
          "output_type": "stream",
          "name": "stderr",
          "text": [
            "\r  7%|▋         | 7/100 [00:13<02:26,  1.58s/it]"
          ]
        },
        {
          "output_type": "stream",
          "name": "stdout",
          "text": [
            "logpost  -1.3862943611198906189   -892.3729236416632   -22.019218703282892\n",
            "6 th iteration, pr =  -915.77843670606597454   -915.77843670606597454   [[0. 0. 0. 0. 2. 2. 0. 0. 0. 0. 1. 0. 0. 2. 2. 0. 0. 0.]]\n"
          ]
        },
        {
          "output_type": "stream",
          "name": "stderr",
          "text": [
            "\r  8%|▊         | 8/100 [00:14<02:17,  1.50s/it]"
          ]
        },
        {
          "output_type": "stream",
          "name": "stdout",
          "text": [
            "logpost  -1.3862943611198906189   -892.3729236416632   -22.019218703282892\n",
            "7 th iteration, pr =  -915.77843670606597454   -915.77843670606597454   [[0. 0. 0. 0. 2. 2. 0. 0. 0. 0. 1. 0. 0. 2. 2. 0. 0. 0.]]\n"
          ]
        },
        {
          "output_type": "stream",
          "name": "stderr",
          "text": [
            "\r  9%|▉         | 9/100 [00:15<02:08,  1.41s/it]"
          ]
        },
        {
          "output_type": "stream",
          "name": "stdout",
          "text": [
            "logpost  -1.7917594692280550563   -895.7042492515095   -22.019218703282892\n",
            "8 th iteration, pr =  -919.51522742402045607   -915.77843670606597454   [[0. 0. 0. 0. 2. 2. 0. 0. 0. 0. 1. 0. 0. 2. 2. 0. 0. 0.]]\n"
          ]
        },
        {
          "output_type": "stream",
          "name": "stderr",
          "text": [
            "\r 10%|█         | 10/100 [00:16<02:01,  1.35s/it]"
          ]
        },
        {
          "output_type": "stream",
          "name": "stdout",
          "text": [
            "logpost  -1.7917594692280550563   -898.5702591849639   -19.983772749672603\n",
            "9 th iteration, pr =  -920.3457914038645603   -915.77843670606597454   [[0. 0. 0. 0. 2. 2. 0. 0. 0. 0. 1. 0. 0. 2. 2. 0. 0. 0.]]\n"
          ]
        },
        {
          "output_type": "stream",
          "name": "stderr",
          "text": [
            "\r 11%|█         | 11/100 [00:18<01:59,  1.34s/it]"
          ]
        },
        {
          "output_type": "stream",
          "name": "stdout",
          "text": [
            "logpost  -1.7917594692280550563   -889.5087717782942   -23.4239686889724\n",
            "10 th iteration, pr =  -914.72449993649465994   -914.72449993649465994   [[0. 0. 0. 0. 2. 1. 0. 0. 0. 0. 1. 0. 0. 2. 1. 0. 0. 0.]]\n"
          ]
        },
        {
          "output_type": "stream",
          "name": "stderr",
          "text": [
            "\r 12%|█▏        | 12/100 [00:19<01:57,  1.34s/it]"
          ]
        },
        {
          "output_type": "stream",
          "name": "stdout",
          "text": [
            "logpost  -1.3862943611198906189   -889.1955496274367   -24.82899919789157\n",
            "11 th iteration, pr =  -915.4108431864481224   -914.72449993649465994   [[0. 0. 0. 0. 1. 1. 0. 0. 0. 0. 1. 0. 0. 2. 1. 0. 0. 0.]]\n"
          ]
        },
        {
          "output_type": "stream",
          "name": "stderr",
          "text": [
            "\r 13%|█▎        | 13/100 [00:20<01:41,  1.17s/it]"
          ]
        },
        {
          "output_type": "stream",
          "name": "stdout",
          "text": [
            "logpost  -1.6094379124341003191   -886.7037379685205   -18.84826210402224\n",
            "12 th iteration, pr =  -907.16143798497683975   -907.16143798497683975   [[0. 0. 0. 0. 1. 1. 0. 0. 0. 0. 1. 0. 0. 1. 1. 0. 0. 0.]]\n"
          ]
        },
        {
          "output_type": "stream",
          "name": "stderr",
          "text": [
            "\r 14%|█▍        | 14/100 [00:21<01:29,  1.04s/it]"
          ]
        },
        {
          "output_type": "stream",
          "name": "stdout",
          "text": [
            "logpost  -1.6094379124341003191   -886.7037379685205   -18.84826210402224\n",
            "13 th iteration, pr =  -907.16143798497683975   -907.16143798497683975   [[0. 0. 0. 0. 1. 1. 0. 0. 0. 0. 1. 0. 0. 1. 1. 0. 0. 0.]]\n"
          ]
        },
        {
          "output_type": "stream",
          "name": "stderr",
          "text": [
            "\r 15%|█▌        | 15/100 [00:21<01:22,  1.03it/s]"
          ]
        },
        {
          "output_type": "stream",
          "name": "stdout",
          "text": [
            "logpost  -1.6094379124341003191   -886.7037379685205   -18.84826210402224\n",
            "14 th iteration, pr =  -907.16143798497683975   -907.16143798497683975   [[0. 0. 0. 0. 1. 1. 0. 0. 0. 0. 1. 0. 0. 1. 1. 0. 0. 0.]]\n"
          ]
        },
        {
          "output_type": "stream",
          "name": "stderr",
          "text": [
            "\r 16%|█▌        | 16/100 [00:22<01:18,  1.06it/s]"
          ]
        },
        {
          "output_type": "stream",
          "name": "stdout",
          "text": [
            "logpost  -1.6094379124341003191   -887.3024113198638   -18.86742387348992\n",
            "15 th iteration, pr =  -907.7792731057878555   -907.16143798497683975   [[0. 0. 0. 0. 1. 1. 0. 0. 0. 0. 1. 0. 0. 1. 1. 0. 0. 0.]]\n"
          ]
        },
        {
          "output_type": "stream",
          "name": "stderr",
          "text": [
            "\r 17%|█▋        | 17/100 [00:23<01:16,  1.09it/s]"
          ]
        },
        {
          "output_type": "stream",
          "name": "stdout",
          "text": [
            "logpost  -1.6094379124341003191   -887.3024113198638   -18.86742387348992\n",
            "16 th iteration, pr =  -907.7792731057878555   -907.16143798497683975   [[0. 0. 0. 0. 1. 1. 0. 0. 0. 0. 1. 0. 0. 1. 1. 0. 0. 0.]]\n"
          ]
        },
        {
          "output_type": "stream",
          "name": "stderr",
          "text": [
            "\r 18%|█▊        | 18/100 [00:24<01:12,  1.13it/s]"
          ]
        },
        {
          "output_type": "stream",
          "name": "stdout",
          "text": [
            "logpost  -1.6094379124341003191   -887.3024113198638   -18.86742387348992\n",
            "17 th iteration, pr =  -907.7792731057878555   -907.16143798497683975   [[0. 0. 0. 0. 1. 1. 0. 0. 0. 0. 1. 0. 0. 1. 1. 0. 0. 0.]]\n"
          ]
        },
        {
          "output_type": "stream",
          "name": "stderr",
          "text": [
            "\r 19%|█▉        | 19/100 [00:25<01:09,  1.17it/s]"
          ]
        },
        {
          "output_type": "stream",
          "name": "stdout",
          "text": [
            "logpost  -1.6094379124341003191   -887.3024113198638   -18.86742387348992\n",
            "18 th iteration, pr =  -907.7792731057878555   -907.16143798497683975   [[0. 0. 0. 0. 1. 1. 0. 0. 0. 0. 1. 0. 0. 1. 1. 0. 0. 0.]]\n"
          ]
        },
        {
          "output_type": "stream",
          "name": "stderr",
          "text": [
            "\r 20%|██        | 20/100 [00:26<01:06,  1.20it/s]"
          ]
        },
        {
          "output_type": "stream",
          "name": "stdout",
          "text": [
            "logpost  -1.6094379124341003191   -887.3024113198638   -18.86742387348992\n",
            "19 th iteration, pr =  -907.7792731057878555   -907.16143798497683975   [[0. 0. 0. 0. 1. 1. 0. 0. 0. 0. 1. 0. 0. 1. 1. 0. 0. 0.]]\n"
          ]
        },
        {
          "output_type": "stream",
          "name": "stderr",
          "text": [
            "\r 21%|██        | 21/100 [00:26<01:04,  1.23it/s]"
          ]
        },
        {
          "output_type": "stream",
          "name": "stdout",
          "text": [
            "logpost  -1.6094379124341003191   -887.3024113198638   -18.86742387348992\n",
            "20 th iteration, pr =  -907.7792731057878555   -907.16143798497683975   [[0. 0. 0. 0. 1. 1. 0. 0. 0. 0. 1. 0. 0. 1. 1. 0. 0. 0.]]\n"
          ]
        },
        {
          "output_type": "stream",
          "name": "stderr",
          "text": [
            "\r 22%|██▏       | 22/100 [00:27<01:02,  1.25it/s]"
          ]
        },
        {
          "output_type": "stream",
          "name": "stdout",
          "text": [
            "logpost  -1.6094379124341003191   -887.3024113198638   -18.86742387348992\n",
            "21 th iteration, pr =  -907.7792731057878555   -907.16143798497683975   [[0. 0. 0. 0. 1. 1. 0. 0. 0. 0. 1. 0. 0. 1. 1. 0. 0. 0.]]\n"
          ]
        },
        {
          "output_type": "stream",
          "name": "stderr",
          "text": [
            "\r 23%|██▎       | 23/100 [00:28<01:00,  1.27it/s]"
          ]
        },
        {
          "output_type": "stream",
          "name": "stdout",
          "text": [
            "logpost  -1.6094379124341003191   -887.3024113198638   -18.86742387348992\n",
            "22 th iteration, pr =  -907.7792731057878555   -907.16143798497683975   [[0. 0. 0. 0. 1. 1. 0. 0. 0. 0. 1. 0. 0. 1. 1. 0. 0. 0.]]\n"
          ]
        },
        {
          "output_type": "stream",
          "name": "stderr",
          "text": [
            "\r 24%|██▍       | 24/100 [00:29<00:59,  1.27it/s]"
          ]
        },
        {
          "output_type": "stream",
          "name": "stdout",
          "text": [
            "logpost  -1.6094379124341003191   -887.3024113198638   -18.86742387348992\n",
            "23 th iteration, pr =  -907.7792731057878555   -907.16143798497683975   [[0. 0. 0. 0. 1. 1. 0. 0. 0. 0. 1. 0. 0. 1. 1. 0. 0. 0.]]\n"
          ]
        },
        {
          "output_type": "stream",
          "name": "stderr",
          "text": [
            "\r 25%|██▌       | 25/100 [00:29<00:59,  1.27it/s]"
          ]
        },
        {
          "output_type": "stream",
          "name": "stdout",
          "text": [
            "logpost  -1.6094379124341003191   -887.3024113198638   -18.86742387348992\n",
            "24 th iteration, pr =  -907.7792731057878555   -907.16143798497683975   [[0. 0. 0. 0. 1. 1. 0. 0. 0. 0. 1. 0. 0. 1. 1. 0. 0. 0.]]\n"
          ]
        },
        {
          "output_type": "stream",
          "name": "stderr",
          "text": [
            "\r 26%|██▌       | 26/100 [00:30<00:58,  1.26it/s]"
          ]
        },
        {
          "output_type": "stream",
          "name": "stdout",
          "text": [
            "logpost  -1.6094379124341003191   -887.3024113198638   -18.86742387348992\n",
            "25 th iteration, pr =  -907.7792731057878555   -907.16143798497683975   [[0. 0. 0. 0. 1. 1. 0. 0. 0. 0. 1. 0. 0. 1. 1. 0. 0. 0.]]\n"
          ]
        },
        {
          "output_type": "stream",
          "name": "stderr",
          "text": [
            "\r 27%|██▋       | 27/100 [00:31<00:57,  1.28it/s]"
          ]
        },
        {
          "output_type": "stream",
          "name": "stdout",
          "text": [
            "logpost  -1.6094379124341003191   -887.3024113198638   -18.86742387348992\n",
            "26 th iteration, pr =  -907.7792731057878555   -907.16143798497683975   [[0. 0. 0. 0. 1. 1. 0. 0. 0. 0. 1. 0. 0. 1. 1. 0. 0. 0.]]\n"
          ]
        },
        {
          "output_type": "stream",
          "name": "stderr",
          "text": [
            "\r 28%|██▊       | 28/100 [00:32<00:56,  1.28it/s]"
          ]
        },
        {
          "output_type": "stream",
          "name": "stdout",
          "text": [
            "logpost  -1.6094379124341003191   -887.3024113198638   -18.86742387348992\n",
            "27 th iteration, pr =  -907.7792731057878555   -907.16143798497683975   [[0. 0. 0. 0. 1. 1. 0. 0. 0. 0. 1. 0. 0. 1. 1. 0. 0. 0.]]\n"
          ]
        },
        {
          "output_type": "stream",
          "name": "stderr",
          "text": [
            "\r 29%|██▉       | 29/100 [00:33<00:54,  1.30it/s]"
          ]
        },
        {
          "output_type": "stream",
          "name": "stdout",
          "text": [
            "logpost  -1.6094379124341003191   -887.3024113198638   -18.86742387348992\n",
            "28 th iteration, pr =  -907.7792731057878555   -907.16143798497683975   [[0. 0. 0. 0. 1. 1. 0. 0. 0. 0. 1. 0. 0. 1. 1. 0. 0. 0.]]\n"
          ]
        },
        {
          "output_type": "stream",
          "name": "stderr",
          "text": [
            "\r 30%|███       | 30/100 [00:33<00:53,  1.30it/s]"
          ]
        },
        {
          "output_type": "stream",
          "name": "stdout",
          "text": [
            "logpost  -1.6094379124341003191   -887.3024113198638   -18.86742387348992\n",
            "29 th iteration, pr =  -907.7792731057878555   -907.16143798497683975   [[0. 0. 0. 0. 1. 1. 0. 0. 0. 0. 1. 0. 0. 1. 1. 0. 0. 0.]]\n"
          ]
        },
        {
          "output_type": "stream",
          "name": "stderr",
          "text": [
            "\r 31%|███       | 31/100 [00:34<00:55,  1.25it/s]"
          ]
        },
        {
          "output_type": "stream",
          "name": "stdout",
          "text": [
            "logpost  -1.6094379124341003191   -887.3024113198638   -18.86742387348992\n",
            "30 th iteration, pr =  -907.7792731057878555   -907.16143798497683975   [[0. 0. 0. 0. 1. 1. 0. 0. 0. 0. 1. 0. 0. 1. 1. 0. 0. 0.]]\n"
          ]
        },
        {
          "output_type": "stream",
          "name": "stderr",
          "text": [
            "\r 32%|███▏      | 32/100 [00:35<00:54,  1.25it/s]"
          ]
        },
        {
          "output_type": "stream",
          "name": "stdout",
          "text": [
            "logpost  -1.6094379124341003191   -887.3024113198638   -18.86742387348992\n",
            "31 th iteration, pr =  -907.7792731057878555   -907.16143798497683975   [[0. 0. 0. 0. 1. 1. 0. 0. 0. 0. 1. 0. 0. 1. 1. 0. 0. 0.]]\n"
          ]
        },
        {
          "output_type": "stream",
          "name": "stderr",
          "text": [
            "\r 33%|███▎      | 33/100 [00:36<00:53,  1.25it/s]"
          ]
        },
        {
          "output_type": "stream",
          "name": "stdout",
          "text": [
            "logpost  -1.6094379124341003191   -887.3024113198638   -18.86742387348992\n",
            "32 th iteration, pr =  -907.7792731057878555   -907.16143798497683975   [[0. 0. 0. 0. 1. 1. 0. 0. 0. 0. 1. 0. 0. 1. 1. 0. 0. 0.]]\n"
          ]
        },
        {
          "output_type": "stream",
          "name": "stderr",
          "text": [
            "\r 34%|███▍      | 34/100 [00:37<00:51,  1.27it/s]"
          ]
        },
        {
          "output_type": "stream",
          "name": "stdout",
          "text": [
            "logpost  -1.6094379124341003191   -887.3024113198638   -18.86742387348992\n",
            "33 th iteration, pr =  -907.7792731057878555   -907.16143798497683975   [[0. 0. 0. 0. 1. 1. 0. 0. 0. 0. 1. 0. 0. 1. 1. 0. 0. 0.]]\n"
          ]
        },
        {
          "output_type": "stream",
          "name": "stderr",
          "text": [
            "\r 35%|███▌      | 35/100 [00:37<00:50,  1.28it/s]"
          ]
        },
        {
          "output_type": "stream",
          "name": "stdout",
          "text": [
            "logpost  -1.6094379124341003191   -887.3024113198638   -18.86742387348992\n",
            "34 th iteration, pr =  -907.7792731057878555   -907.16143798497683975   [[0. 0. 0. 0. 1. 1. 0. 0. 0. 0. 1. 0. 0. 1. 1. 0. 0. 0.]]\n"
          ]
        },
        {
          "output_type": "stream",
          "name": "stderr",
          "text": [
            "\r 36%|███▌      | 36/100 [00:38<00:49,  1.28it/s]"
          ]
        },
        {
          "output_type": "stream",
          "name": "stdout",
          "text": [
            "logpost  -1.6094379124341003191   -887.3024113198638   -18.86742387348992\n",
            "35 th iteration, pr =  -907.7792731057878555   -907.16143798497683975   [[0. 0. 0. 0. 1. 1. 0. 0. 0. 0. 1. 0. 0. 1. 1. 0. 0. 0.]]\n"
          ]
        },
        {
          "output_type": "stream",
          "name": "stderr",
          "text": [
            "\r 37%|███▋      | 37/100 [00:39<00:49,  1.28it/s]"
          ]
        },
        {
          "output_type": "stream",
          "name": "stdout",
          "text": [
            "logpost  -1.6094379124341003191   -887.3024113198638   -18.86742387348992\n",
            "36 th iteration, pr =  -907.7792731057878555   -907.16143798497683975   [[0. 0. 0. 0. 1. 1. 0. 0. 0. 0. 1. 0. 0. 1. 1. 0. 0. 0.]]\n"
          ]
        },
        {
          "output_type": "stream",
          "name": "stderr",
          "text": [
            "\r 38%|███▊      | 38/100 [00:40<00:48,  1.28it/s]"
          ]
        },
        {
          "output_type": "stream",
          "name": "stdout",
          "text": [
            "logpost  -1.6094379124341003191   -887.3024113198638   -18.86742387348992\n",
            "37 th iteration, pr =  -907.7792731057878555   -907.16143798497683975   [[0. 0. 0. 0. 1. 1. 0. 0. 0. 0. 1. 0. 0. 1. 1. 0. 0. 0.]]\n"
          ]
        },
        {
          "output_type": "stream",
          "name": "stderr",
          "text": [
            "\r 39%|███▉      | 39/100 [00:40<00:47,  1.28it/s]"
          ]
        },
        {
          "output_type": "stream",
          "name": "stdout",
          "text": [
            "logpost  -1.6094379124341003191   -887.3024113198638   -18.86742387348992\n",
            "38 th iteration, pr =  -907.7792731057878555   -907.16143798497683975   [[0. 0. 0. 0. 1. 1. 0. 0. 0. 0. 1. 0. 0. 1. 1. 0. 0. 0.]]\n"
          ]
        },
        {
          "output_type": "stream",
          "name": "stderr",
          "text": [
            "\r 40%|████      | 40/100 [00:41<00:45,  1.31it/s]"
          ]
        },
        {
          "output_type": "stream",
          "name": "stdout",
          "text": [
            "logpost  -1.6094379124341003191   -887.3024113198638   -18.86742387348992\n",
            "39 th iteration, pr =  -907.7792731057878555   -907.16143798497683975   [[0. 0. 0. 0. 1. 1. 0. 0. 0. 0. 1. 0. 0. 1. 1. 0. 0. 0.]]\n"
          ]
        },
        {
          "output_type": "stream",
          "name": "stderr",
          "text": [
            "\r 41%|████      | 41/100 [00:42<00:45,  1.30it/s]"
          ]
        },
        {
          "output_type": "stream",
          "name": "stdout",
          "text": [
            "logpost  -1.6094379124341003191   -887.3024113198638   -18.86742387348992\n",
            "40 th iteration, pr =  -907.7792731057878555   -907.16143798497683975   [[0. 0. 0. 0. 1. 1. 0. 0. 0. 0. 1. 0. 0. 1. 1. 0. 0. 0.]]\n"
          ]
        },
        {
          "output_type": "stream",
          "name": "stderr",
          "text": [
            "\r 42%|████▏     | 42/100 [00:43<00:44,  1.32it/s]"
          ]
        },
        {
          "output_type": "stream",
          "name": "stdout",
          "text": [
            "logpost  -1.6094379124341003191   -887.3024113198638   -18.86742387348992\n",
            "41 th iteration, pr =  -907.7792731057878555   -907.16143798497683975   [[0. 0. 0. 0. 1. 1. 0. 0. 0. 0. 1. 0. 0. 1. 1. 0. 0. 0.]]\n"
          ]
        },
        {
          "output_type": "stream",
          "name": "stderr",
          "text": [
            "\r 43%|████▎     | 43/100 [00:43<00:43,  1.31it/s]"
          ]
        },
        {
          "output_type": "stream",
          "name": "stdout",
          "text": [
            "logpost  -1.6094379124341003191   -887.3024113198638   -18.86742387348992\n",
            "42 th iteration, pr =  -907.7792731057878555   -907.16143798497683975   [[0. 0. 0. 0. 1. 1. 0. 0. 0. 0. 1. 0. 0. 1. 1. 0. 0. 0.]]\n"
          ]
        },
        {
          "output_type": "stream",
          "name": "stderr",
          "text": [
            "\r 44%|████▍     | 44/100 [00:44<00:43,  1.29it/s]"
          ]
        },
        {
          "output_type": "stream",
          "name": "stdout",
          "text": [
            "logpost  -1.6094379124341003191   -887.3024113198638   -18.86742387348992\n",
            "43 th iteration, pr =  -907.7792731057878555   -907.16143798497683975   [[0. 0. 0. 0. 1. 1. 0. 0. 0. 0. 1. 0. 0. 1. 1. 0. 0. 0.]]\n"
          ]
        },
        {
          "output_type": "stream",
          "name": "stderr",
          "text": [
            "\r 45%|████▌     | 45/100 [00:45<00:42,  1.31it/s]"
          ]
        },
        {
          "output_type": "stream",
          "name": "stdout",
          "text": [
            "logpost  -1.6094379124341003191   -887.3024113198638   -18.86742387348992\n",
            "44 th iteration, pr =  -907.7792731057878555   -907.16143798497683975   [[0. 0. 0. 0. 1. 1. 0. 0. 0. 0. 1. 0. 0. 1. 1. 0. 0. 0.]]\n"
          ]
        },
        {
          "output_type": "stream",
          "name": "stderr",
          "text": [
            "\r 46%|████▌     | 46/100 [00:46<00:42,  1.28it/s]"
          ]
        },
        {
          "output_type": "stream",
          "name": "stdout",
          "text": [
            "logpost  -1.6094379124341003191   -887.3024113198638   -18.86742387348992\n",
            "45 th iteration, pr =  -907.7792731057878555   -907.16143798497683975   [[0. 0. 0. 0. 1. 1. 0. 0. 0. 0. 1. 0. 0. 1. 1. 0. 0. 0.]]\n"
          ]
        },
        {
          "output_type": "stream",
          "name": "stderr",
          "text": [
            "\r 47%|████▋     | 47/100 [00:47<00:41,  1.28it/s]"
          ]
        },
        {
          "output_type": "stream",
          "name": "stdout",
          "text": [
            "logpost  -1.6094379124341003191   -887.3024113198638   -18.86742387348992\n",
            "46 th iteration, pr =  -907.7792731057878555   -907.16143798497683975   [[0. 0. 0. 0. 1. 1. 0. 0. 0. 0. 1. 0. 0. 1. 1. 0. 0. 0.]]\n"
          ]
        },
        {
          "output_type": "stream",
          "name": "stderr",
          "text": [
            "\r 48%|████▊     | 48/100 [00:47<00:41,  1.26it/s]"
          ]
        },
        {
          "output_type": "stream",
          "name": "stdout",
          "text": [
            "logpost  -1.6094379124341003191   -887.3024113198638   -18.86742387348992\n",
            "47 th iteration, pr =  -907.7792731057878555   -907.16143798497683975   [[0. 0. 0. 0. 1. 1. 0. 0. 0. 0. 1. 0. 0. 1. 1. 0. 0. 0.]]\n"
          ]
        },
        {
          "output_type": "stream",
          "name": "stderr",
          "text": [
            "\r 49%|████▉     | 49/100 [00:48<00:40,  1.25it/s]"
          ]
        },
        {
          "output_type": "stream",
          "name": "stdout",
          "text": [
            "logpost  -1.6094379124341003191   -887.3024113198638   -18.86742387348992\n",
            "48 th iteration, pr =  -907.7792731057878555   -907.16143798497683975   [[0. 0. 0. 0. 1. 1. 0. 0. 0. 0. 1. 0. 0. 1. 1. 0. 0. 0.]]\n"
          ]
        },
        {
          "output_type": "stream",
          "name": "stderr",
          "text": [
            "\r 50%|█████     | 50/100 [00:49<00:40,  1.24it/s]"
          ]
        },
        {
          "output_type": "stream",
          "name": "stdout",
          "text": [
            "logpost  -1.6094379124341003191   -887.3024113198638   -18.86742387348992\n",
            "49 th iteration, pr =  -907.7792731057878555   -907.16143798497683975   [[0. 0. 0. 0. 1. 1. 0. 0. 0. 0. 1. 0. 0. 1. 1. 0. 0. 0.]]\n"
          ]
        },
        {
          "output_type": "stream",
          "name": "stderr",
          "text": [
            "\r 51%|█████     | 51/100 [00:50<00:38,  1.28it/s]"
          ]
        },
        {
          "output_type": "stream",
          "name": "stdout",
          "text": [
            "logpost  -1.6094379124341003191   -887.3024113198638   -18.86742387348992\n",
            "50 th iteration, pr =  -907.7792731057878555   -907.16143798497683975   [[0. 0. 0. 0. 1. 1. 0. 0. 0. 0. 1. 0. 0. 1. 1. 0. 0. 0.]]\n"
          ]
        },
        {
          "output_type": "stream",
          "name": "stderr",
          "text": [
            "\r 52%|█████▏    | 52/100 [00:51<00:37,  1.27it/s]"
          ]
        },
        {
          "output_type": "stream",
          "name": "stdout",
          "text": [
            "logpost  -1.6094379124341003191   -887.3024113198638   -18.86742387348992\n",
            "51 th iteration, pr =  -907.7792731057878555   -907.16143798497683975   [[0. 0. 0. 0. 1. 1. 0. 0. 0. 0. 1. 0. 0. 1. 1. 0. 0. 0.]]\n"
          ]
        },
        {
          "output_type": "stream",
          "name": "stderr",
          "text": [
            "\r 53%|█████▎    | 53/100 [00:51<00:36,  1.29it/s]"
          ]
        },
        {
          "output_type": "stream",
          "name": "stdout",
          "text": [
            "logpost  -1.6094379124341003191   -887.3024113198638   -18.86742387348992\n",
            "52 th iteration, pr =  -907.7792731057878555   -907.16143798497683975   [[0. 0. 0. 0. 1. 1. 0. 0. 0. 0. 1. 0. 0. 1. 1. 0. 0. 0.]]\n"
          ]
        },
        {
          "output_type": "stream",
          "name": "stderr",
          "text": [
            "\r 54%|█████▍    | 54/100 [00:52<00:36,  1.27it/s]"
          ]
        },
        {
          "output_type": "stream",
          "name": "stdout",
          "text": [
            "logpost  -1.6094379124341003191   -887.3024113198638   -18.86742387348992\n",
            "53 th iteration, pr =  -907.7792731057878555   -907.16143798497683975   [[0. 0. 0. 0. 1. 1. 0. 0. 0. 0. 1. 0. 0. 1. 1. 0. 0. 0.]]\n"
          ]
        },
        {
          "output_type": "stream",
          "name": "stderr",
          "text": [
            "\r 55%|█████▌    | 55/100 [00:53<00:35,  1.28it/s]"
          ]
        },
        {
          "output_type": "stream",
          "name": "stdout",
          "text": [
            "logpost  -1.6094379124341003191   -887.3024113198638   -18.86742387348992\n",
            "54 th iteration, pr =  -907.7792731057878555   -907.16143798497683975   [[0. 0. 0. 0. 1. 1. 0. 0. 0. 0. 1. 0. 0. 1. 1. 0. 0. 0.]]\n"
          ]
        },
        {
          "output_type": "stream",
          "name": "stderr",
          "text": [
            "\r 56%|█████▌    | 56/100 [00:54<00:33,  1.30it/s]"
          ]
        },
        {
          "output_type": "stream",
          "name": "stdout",
          "text": [
            "logpost  -1.6094379124341003191   -887.3024113198638   -18.86742387348992\n",
            "55 th iteration, pr =  -907.7792731057878555   -907.16143798497683975   [[0. 0. 0. 0. 1. 1. 0. 0. 0. 0. 1. 0. 0. 1. 1. 0. 0. 0.]]\n"
          ]
        },
        {
          "output_type": "stream",
          "name": "stderr",
          "text": [
            "\r 57%|█████▋    | 57/100 [00:54<00:33,  1.29it/s]"
          ]
        },
        {
          "output_type": "stream",
          "name": "stdout",
          "text": [
            "logpost  -1.6094379124341003191   -887.3024113198638   -18.86742387348992\n",
            "56 th iteration, pr =  -907.7792731057878555   -907.16143798497683975   [[0. 0. 0. 0. 1. 1. 0. 0. 0. 0. 1. 0. 0. 1. 1. 0. 0. 0.]]\n"
          ]
        },
        {
          "output_type": "stream",
          "name": "stderr",
          "text": [
            "\r 58%|█████▊    | 58/100 [00:55<00:32,  1.29it/s]"
          ]
        },
        {
          "output_type": "stream",
          "name": "stdout",
          "text": [
            "logpost  -1.6094379124341003191   -887.3024113198638   -18.86742387348992\n",
            "57 th iteration, pr =  -907.7792731057878555   -907.16143798497683975   [[0. 0. 0. 0. 1. 1. 0. 0. 0. 0. 1. 0. 0. 1. 1. 0. 0. 0.]]\n"
          ]
        },
        {
          "output_type": "stream",
          "name": "stderr",
          "text": [
            "\r 59%|█████▉    | 59/100 [00:56<00:31,  1.30it/s]"
          ]
        },
        {
          "output_type": "stream",
          "name": "stdout",
          "text": [
            "logpost  -1.6094379124341003191   -887.2394428400981   -20.00395157858487\n",
            "58 th iteration, pr =  -908.85283233111712137   -907.16143798497683975   [[0. 0. 0. 0. 1. 1. 0. 0. 0. 0. 1. 0. 0. 1. 1. 0. 0. 0.]]\n"
          ]
        },
        {
          "output_type": "stream",
          "name": "stderr",
          "text": [
            "\r 60%|██████    | 60/100 [00:57<00:31,  1.27it/s]"
          ]
        },
        {
          "output_type": "stream",
          "name": "stdout",
          "text": [
            "logpost  -1.6094379124341003191   -887.2394428400981   -20.00395157858487\n",
            "59 th iteration, pr =  -908.85283233111712137   -907.16143798497683975   [[0. 0. 0. 0. 1. 1. 0. 0. 0. 0. 1. 0. 0. 1. 1. 0. 0. 0.]]\n"
          ]
        },
        {
          "output_type": "stream",
          "name": "stderr",
          "text": [
            "\r 61%|██████    | 61/100 [00:58<00:30,  1.28it/s]"
          ]
        },
        {
          "output_type": "stream",
          "name": "stdout",
          "text": [
            "logpost  -1.6094379124341003191   -887.2394428400981   -20.00395157858487\n",
            "60 th iteration, pr =  -908.85283233111712137   -907.16143798497683975   [[0. 0. 0. 0. 1. 1. 0. 0. 0. 0. 1. 0. 0. 1. 1. 0. 0. 0.]]\n"
          ]
        },
        {
          "output_type": "stream",
          "name": "stderr",
          "text": [
            "\r 62%|██████▏   | 62/100 [00:58<00:29,  1.29it/s]"
          ]
        },
        {
          "output_type": "stream",
          "name": "stdout",
          "text": [
            "logpost  -1.6094379124341003191   -887.2394428400981   -20.00395157858487\n",
            "61 th iteration, pr =  -908.85283233111712137   -907.16143798497683975   [[0. 0. 0. 0. 1. 1. 0. 0. 0. 0. 1. 0. 0. 1. 1. 0. 0. 0.]]\n"
          ]
        },
        {
          "output_type": "stream",
          "name": "stderr",
          "text": [
            "\r 63%|██████▎   | 63/100 [00:59<00:28,  1.28it/s]"
          ]
        },
        {
          "output_type": "stream",
          "name": "stdout",
          "text": [
            "logpost  -1.6094379124341003191   -887.2394428400981   -20.00395157858487\n",
            "62 th iteration, pr =  -908.85283233111712137   -907.16143798497683975   [[0. 0. 0. 0. 1. 1. 0. 0. 0. 0. 1. 0. 0. 1. 1. 0. 0. 0.]]\n"
          ]
        },
        {
          "output_type": "stream",
          "name": "stderr",
          "text": [
            "\r 64%|██████▍   | 64/100 [01:00<00:28,  1.26it/s]"
          ]
        },
        {
          "output_type": "stream",
          "name": "stdout",
          "text": [
            "logpost  -1.6094379124341003191   -887.2394428400981   -20.00395157858487\n",
            "63 th iteration, pr =  -908.85283233111712137   -907.16143798497683975   [[0. 0. 0. 0. 1. 1. 0. 0. 0. 0. 1. 0. 0. 1. 1. 0. 0. 0.]]\n"
          ]
        },
        {
          "output_type": "stream",
          "name": "stderr",
          "text": [
            "\r 65%|██████▌   | 65/100 [01:01<00:27,  1.26it/s]"
          ]
        },
        {
          "output_type": "stream",
          "name": "stdout",
          "text": [
            "logpost  -1.3862943611198906189   -890.5884174882246   -20.00395157858487\n",
            "64 th iteration, pr =  -911.9786634279294118   -907.16143798497683975   [[0. 0. 0. 0. 1. 1. 0. 0. 0. 0. 1. 0. 0. 1. 1. 0. 0. 0.]]\n"
          ]
        },
        {
          "output_type": "stream",
          "name": "stderr",
          "text": [
            "\r 66%|██████▌   | 66/100 [01:01<00:26,  1.27it/s]"
          ]
        },
        {
          "output_type": "stream",
          "name": "stdout",
          "text": [
            "logpost  -1.0986122886681097469   -893.510213050425   -20.00395157858487\n",
            "65 th iteration, pr =  -914.61277691767800374   -907.16143798497683975   [[0. 0. 0. 0. 1. 1. 0. 0. 0. 0. 1. 0. 0. 1. 1. 0. 0. 0.]]\n"
          ]
        },
        {
          "output_type": "stream",
          "name": "stderr",
          "text": [
            "\r 67%|██████▋   | 67/100 [01:02<00:25,  1.28it/s]"
          ]
        },
        {
          "output_type": "stream",
          "name": "stdout",
          "text": [
            "logpost  -1.0986122886681097469   -893.510213050425   -20.00395157858487\n",
            "66 th iteration, pr =  -914.61277691767800374   -907.16143798497683975   [[0. 0. 0. 0. 1. 1. 0. 0. 0. 0. 1. 0. 0. 1. 1. 0. 0. 0.]]\n"
          ]
        },
        {
          "output_type": "stream",
          "name": "stderr",
          "text": [
            "\r 68%|██████▊   | 68/100 [01:03<00:25,  1.26it/s]"
          ]
        },
        {
          "output_type": "stream",
          "name": "stdout",
          "text": [
            "logpost  -1.0986122886681097469   -893.510213050425   -20.00395157858487\n",
            "67 th iteration, pr =  -914.61277691767800374   -907.16143798497683975   [[0. 0. 0. 0. 1. 1. 0. 0. 0. 0. 1. 0. 0. 1. 1. 0. 0. 0.]]\n"
          ]
        },
        {
          "output_type": "stream",
          "name": "stderr",
          "text": [
            "\r 69%|██████▉   | 69/100 [01:04<00:24,  1.29it/s]"
          ]
        },
        {
          "output_type": "stream",
          "name": "stdout",
          "text": [
            "logpost  -1.0986122886681097469   -893.510213050425   -20.00395157858487\n",
            "68 th iteration, pr =  -914.61277691767800374   -907.16143798497683975   [[0. 0. 0. 0. 1. 1. 0. 0. 0. 0. 1. 0. 0. 1. 1. 0. 0. 0.]]\n"
          ]
        },
        {
          "output_type": "stream",
          "name": "stderr",
          "text": [
            "\r 70%|███████   | 70/100 [01:05<00:23,  1.29it/s]"
          ]
        },
        {
          "output_type": "stream",
          "name": "stdout",
          "text": [
            "logpost  -1.0986122886681097469   -893.510213050425   -20.00395157858487\n",
            "69 th iteration, pr =  -914.61277691767800374   -907.16143798497683975   [[0. 0. 0. 0. 1. 1. 0. 0. 0. 0. 1. 0. 0. 1. 1. 0. 0. 0.]]\n"
          ]
        },
        {
          "output_type": "stream",
          "name": "stderr",
          "text": [
            "\r 71%|███████   | 71/100 [01:05<00:22,  1.31it/s]"
          ]
        },
        {
          "output_type": "stream",
          "name": "stdout",
          "text": [
            "logpost  -1.0986122886681097469   -893.510213050425   -20.00395157858487\n",
            "70 th iteration, pr =  -914.61277691767800374   -907.16143798497683975   [[0. 0. 0. 0. 1. 1. 0. 0. 0. 0. 1. 0. 0. 1. 1. 0. 0. 0.]]\n"
          ]
        },
        {
          "output_type": "stream",
          "name": "stderr",
          "text": [
            "\r 72%|███████▏  | 72/100 [01:06<00:21,  1.30it/s]"
          ]
        },
        {
          "output_type": "stream",
          "name": "stdout",
          "text": [
            "logpost  -1.0986122886681097469   -893.510213050425   -20.00395157858487\n",
            "71 th iteration, pr =  -914.61277691767800374   -907.16143798497683975   [[0. 0. 0. 0. 1. 1. 0. 0. 0. 0. 1. 0. 0. 1. 1. 0. 0. 0.]]\n"
          ]
        },
        {
          "output_type": "stream",
          "name": "stderr",
          "text": [
            "\r 73%|███████▎  | 73/100 [01:07<00:21,  1.28it/s]"
          ]
        },
        {
          "output_type": "stream",
          "name": "stdout",
          "text": [
            "logpost  -1.0986122886681097469   -893.510213050425   -20.00395157858487\n",
            "72 th iteration, pr =  -914.61277691767800374   -907.16143798497683975   [[0. 0. 0. 0. 1. 1. 0. 0. 0. 0. 1. 0. 0. 1. 1. 0. 0. 0.]]\n"
          ]
        },
        {
          "output_type": "stream",
          "name": "stderr",
          "text": [
            "\r 74%|███████▍  | 74/100 [01:08<00:20,  1.30it/s]"
          ]
        },
        {
          "output_type": "stream",
          "name": "stdout",
          "text": [
            "logpost  -1.3862943611198906189   -890.5884174882246   -20.00395157858487\n",
            "73 th iteration, pr =  -911.9786634279294118   -907.16143798497683975   [[0. 0. 0. 0. 1. 1. 0. 0. 0. 0. 1. 0. 0. 1. 1. 0. 0. 0.]]\n"
          ]
        },
        {
          "output_type": "stream",
          "name": "stderr",
          "text": [
            "\r 75%|███████▌  | 75/100 [01:08<00:19,  1.30it/s]"
          ]
        },
        {
          "output_type": "stream",
          "name": "stdout",
          "text": [
            "logpost  -1.0986122886681097469   -895.5020162699441   -21.887688573148292\n",
            "74 th iteration, pr =  -918.4883171317604808   -907.16143798497683975   [[0. 0. 0. 0. 1. 1. 0. 0. 0. 0. 1. 0. 0. 1. 1. 0. 0. 0.]]\n"
          ]
        },
        {
          "output_type": "stream",
          "name": "stderr",
          "text": [
            "\r 76%|███████▌  | 76/100 [01:09<00:18,  1.30it/s]"
          ]
        },
        {
          "output_type": "stream",
          "name": "stdout",
          "text": [
            "logpost  -1.0986122886681097469   -895.5020162699441   -21.887688573148292\n",
            "75 th iteration, pr =  -918.4883171317604808   -907.16143798497683975   [[0. 0. 0. 0. 1. 1. 0. 0. 0. 0. 1. 0. 0. 1. 1. 0. 0. 0.]]\n"
          ]
        },
        {
          "output_type": "stream",
          "name": "stderr",
          "text": [
            "\r 77%|███████▋  | 77/100 [01:10<00:17,  1.30it/s]"
          ]
        },
        {
          "output_type": "stream",
          "name": "stdout",
          "text": [
            "logpost  -1.0986122886681097469   -895.5020162699441   -21.887688573148292\n",
            "76 th iteration, pr =  -918.4883171317604808   -907.16143798497683975   [[0. 0. 0. 0. 1. 1. 0. 0. 0. 0. 1. 0. 0. 1. 1. 0. 0. 0.]]\n"
          ]
        },
        {
          "output_type": "stream",
          "name": "stderr",
          "text": [
            "\r 78%|███████▊  | 78/100 [01:11<00:16,  1.31it/s]"
          ]
        },
        {
          "output_type": "stream",
          "name": "stdout",
          "text": [
            "logpost  -1.0986122886681097469   -895.5020162699441   -21.887688573148292\n",
            "77 th iteration, pr =  -918.4883171317604808   -907.16143798497683975   [[0. 0. 0. 0. 1. 1. 0. 0. 0. 0. 1. 0. 0. 1. 1. 0. 0. 0.]]\n"
          ]
        },
        {
          "output_type": "stream",
          "name": "stderr",
          "text": [
            "\r 79%|███████▉  | 79/100 [01:11<00:15,  1.32it/s]"
          ]
        },
        {
          "output_type": "stream",
          "name": "stdout",
          "text": [
            "logpost  -1.0986122886681097469   -895.5020162699441   -21.887688573148292\n",
            "78 th iteration, pr =  -918.4883171317604808   -907.16143798497683975   [[0. 0. 0. 0. 1. 1. 0. 0. 0. 0. 1. 0. 0. 1. 1. 0. 0. 0.]]\n"
          ]
        },
        {
          "output_type": "stream",
          "name": "stderr",
          "text": [
            "\r 80%|████████  | 80/100 [01:12<00:15,  1.28it/s]"
          ]
        },
        {
          "output_type": "stream",
          "name": "stdout",
          "text": [
            "logpost  -1.0986122886681097469   -895.5020162699441   -21.887688573148292\n",
            "79 th iteration, pr =  -918.4883171317604808   -907.16143798497683975   [[0. 0. 0. 0. 1. 1. 0. 0. 0. 0. 1. 0. 0. 1. 1. 0. 0. 0.]]\n"
          ]
        },
        {
          "output_type": "stream",
          "name": "stderr",
          "text": [
            "\r 81%|████████  | 81/100 [01:13<00:14,  1.27it/s]"
          ]
        },
        {
          "output_type": "stream",
          "name": "stdout",
          "text": [
            "logpost  -1.3862943611198906189   -891.4384489285953   -21.887688573148292\n",
            "80 th iteration, pr =  -914.71243186286351784   -907.16143798497683975   [[0. 0. 0. 0. 1. 1. 0. 0. 0. 0. 1. 0. 0. 1. 1. 0. 0. 0.]]\n"
          ]
        },
        {
          "output_type": "stream",
          "name": "stderr",
          "text": [
            "\r 82%|████████▏ | 82/100 [01:14<00:14,  1.23it/s]"
          ]
        },
        {
          "output_type": "stream",
          "name": "stdout",
          "text": [
            "logpost  -1.3862943611198906189   -891.4384489285953   -21.887688573148292\n",
            "81 th iteration, pr =  -914.71243186286351784   -907.16143798497683975   [[0. 0. 0. 0. 1. 1. 0. 0. 0. 0. 1. 0. 0. 1. 1. 0. 0. 0.]]\n"
          ]
        },
        {
          "output_type": "stream",
          "name": "stderr",
          "text": [
            "\r 83%|████████▎ | 83/100 [01:15<00:13,  1.26it/s]"
          ]
        },
        {
          "output_type": "stream",
          "name": "stdout",
          "text": [
            "logpost  -1.3862943611198906189   -891.4384489285953   -21.887688573148292\n",
            "82 th iteration, pr =  -914.71243186286351784   -907.16143798497683975   [[0. 0. 0. 0. 1. 1. 0. 0. 0. 0. 1. 0. 0. 1. 1. 0. 0. 0.]]\n"
          ]
        },
        {
          "output_type": "stream",
          "name": "stderr",
          "text": [
            "\r 84%|████████▍ | 84/100 [01:16<00:12,  1.24it/s]"
          ]
        },
        {
          "output_type": "stream",
          "name": "stdout",
          "text": [
            "logpost  -1.3862943611198906189   -891.4384489285953   -21.887688573148292\n",
            "83 th iteration, pr =  -914.71243186286351784   -907.16143798497683975   [[0. 0. 0. 0. 1. 1. 0. 0. 0. 0. 1. 0. 0. 1. 1. 0. 0. 0.]]\n"
          ]
        },
        {
          "output_type": "stream",
          "name": "stderr",
          "text": [
            "\r 85%|████████▌ | 85/100 [01:16<00:12,  1.24it/s]"
          ]
        },
        {
          "output_type": "stream",
          "name": "stdout",
          "text": [
            "logpost  -1.3862943611198906189   -891.4384489285953   -21.887688573148292\n",
            "84 th iteration, pr =  -914.71243186286351784   -907.16143798497683975   [[0. 0. 0. 0. 1. 1. 0. 0. 0. 0. 1. 0. 0. 1. 1. 0. 0. 0.]]\n"
          ]
        },
        {
          "output_type": "stream",
          "name": "stderr",
          "text": [
            "\r 86%|████████▌ | 86/100 [01:17<00:11,  1.25it/s]"
          ]
        },
        {
          "output_type": "stream",
          "name": "stdout",
          "text": [
            "logpost  -1.3862943611198906189   -891.4384489285953   -21.887688573148292\n",
            "85 th iteration, pr =  -914.71243186286351784   -907.16143798497683975   [[0. 0. 0. 0. 1. 1. 0. 0. 0. 0. 1. 0. 0. 1. 1. 0. 0. 0.]]\n"
          ]
        },
        {
          "output_type": "stream",
          "name": "stderr",
          "text": [
            "\r 87%|████████▋ | 87/100 [01:18<00:10,  1.26it/s]"
          ]
        },
        {
          "output_type": "stream",
          "name": "stdout",
          "text": [
            "logpost  -1.3862943611198906189   -891.4384489285953   -21.887688573148292\n",
            "86 th iteration, pr =  -914.71243186286351784   -907.16143798497683975   [[0. 0. 0. 0. 1. 1. 0. 0. 0. 0. 1. 0. 0. 1. 1. 0. 0. 0.]]\n"
          ]
        },
        {
          "output_type": "stream",
          "name": "stderr",
          "text": [
            "\r 88%|████████▊ | 88/100 [01:19<00:09,  1.25it/s]"
          ]
        },
        {
          "output_type": "stream",
          "name": "stdout",
          "text": [
            "logpost  -1.3862943611198906189   -891.4384489285953   -21.887688573148292\n",
            "87 th iteration, pr =  -914.71243186286351784   -907.16143798497683975   [[0. 0. 0. 0. 1. 1. 0. 0. 0. 0. 1. 0. 0. 1. 1. 0. 0. 0.]]\n"
          ]
        },
        {
          "output_type": "stream",
          "name": "stderr",
          "text": [
            "\r 89%|████████▉ | 89/100 [01:19<00:08,  1.28it/s]"
          ]
        },
        {
          "output_type": "stream",
          "name": "stdout",
          "text": [
            "logpost  -1.3862943611198906189   -891.4384489285953   -21.887688573148292\n",
            "88 th iteration, pr =  -914.71243186286351784   -907.16143798497683975   [[0. 0. 0. 0. 1. 1. 0. 0. 0. 0. 1. 0. 0. 1. 1. 0. 0. 0.]]\n"
          ]
        },
        {
          "output_type": "stream",
          "name": "stderr",
          "text": [
            "\r 90%|█████████ | 90/100 [01:20<00:07,  1.26it/s]"
          ]
        },
        {
          "output_type": "stream",
          "name": "stdout",
          "text": [
            "logpost  -1.3862943611198906189   -891.4384489285953   -21.887688573148292\n",
            "89 th iteration, pr =  -914.71243186286351784   -907.16143798497683975   [[0. 0. 0. 0. 1. 1. 0. 0. 0. 0. 1. 0. 0. 1. 1. 0. 0. 0.]]\n"
          ]
        },
        {
          "output_type": "stream",
          "name": "stderr",
          "text": [
            "\r 91%|█████████ | 91/100 [01:21<00:07,  1.26it/s]"
          ]
        },
        {
          "output_type": "stream",
          "name": "stdout",
          "text": [
            "logpost  -1.6094379124341003191   -886.5401630006172   -21.887688573148292\n",
            "90 th iteration, pr =  -910.0372894861996052   -907.16143798497683975   [[0. 0. 0. 0. 1. 1. 0. 0. 0. 0. 1. 0. 0. 1. 1. 0. 0. 0.]]\n"
          ]
        },
        {
          "output_type": "stream",
          "name": "stderr",
          "text": [
            "\r 92%|█████████▏| 92/100 [01:22<00:06,  1.27it/s]"
          ]
        },
        {
          "output_type": "stream",
          "name": "stdout",
          "text": [
            "logpost  -1.6094379124341003191   -886.5401630006172   -21.887688573148292\n",
            "91 th iteration, pr =  -910.0372894861996052   -907.16143798497683975   [[0. 0. 0. 0. 1. 1. 0. 0. 0. 0. 1. 0. 0. 1. 1. 0. 0. 0.]]\n"
          ]
        },
        {
          "output_type": "stream",
          "name": "stderr",
          "text": [
            "\r 93%|█████████▎| 93/100 [01:23<00:05,  1.28it/s]"
          ]
        },
        {
          "output_type": "stream",
          "name": "stdout",
          "text": [
            "logpost  -1.6094379124341003191   -886.5401630006172   -21.887688573148292\n",
            "92 th iteration, pr =  -910.0372894861996052   -907.16143798497683975   [[0. 0. 0. 0. 1. 1. 0. 0. 0. 0. 1. 0. 0. 1. 1. 0. 0. 0.]]\n"
          ]
        },
        {
          "output_type": "stream",
          "name": "stderr",
          "text": [
            "\r 94%|█████████▍| 94/100 [01:23<00:04,  1.29it/s]"
          ]
        },
        {
          "output_type": "stream",
          "name": "stdout",
          "text": [
            "logpost  -1.6094379124341003191   -886.5401630006172   -21.887688573148292\n",
            "93 th iteration, pr =  -910.0372894861996052   -907.16143798497683975   [[0. 0. 0. 0. 1. 1. 0. 0. 0. 0. 1. 0. 0. 1. 1. 0. 0. 0.]]\n"
          ]
        },
        {
          "output_type": "stream",
          "name": "stderr",
          "text": [
            "\r 95%|█████████▌| 95/100 [01:24<00:03,  1.28it/s]"
          ]
        },
        {
          "output_type": "stream",
          "name": "stdout",
          "text": [
            "logpost  -1.6094379124341003191   -886.5401630006172   -21.887688573148292\n",
            "94 th iteration, pr =  -910.0372894861996052   -907.16143798497683975   [[0. 0. 0. 0. 1. 1. 0. 0. 0. 0. 1. 0. 0. 1. 1. 0. 0. 0.]]\n"
          ]
        },
        {
          "output_type": "stream",
          "name": "stderr",
          "text": [
            "\r 96%|█████████▌| 96/100 [01:25<00:03,  1.26it/s]"
          ]
        },
        {
          "output_type": "stream",
          "name": "stdout",
          "text": [
            "logpost  -1.6094379124341003191   -886.5401630006172   -21.887688573148292\n",
            "95 th iteration, pr =  -910.0372894861996052   -907.16143798497683975   [[0. 0. 0. 0. 1. 1. 0. 0. 0. 0. 1. 0. 0. 1. 1. 0. 0. 0.]]\n"
          ]
        },
        {
          "output_type": "stream",
          "name": "stderr",
          "text": [
            "\r 97%|█████████▋| 97/100 [01:26<00:02,  1.24it/s]"
          ]
        },
        {
          "output_type": "stream",
          "name": "stdout",
          "text": [
            "logpost  -1.3862943611198906189   -890.603730341966   -21.887688573148292\n",
            "96 th iteration, pr =  -913.87771327623413936   -907.16143798497683975   [[0. 0. 0. 0. 1. 1. 0. 0. 0. 0. 1. 0. 0. 1. 1. 0. 0. 0.]]\n"
          ]
        },
        {
          "output_type": "stream",
          "name": "stderr",
          "text": [
            "\r 98%|█████████▊| 98/100 [01:27<00:01,  1.24it/s]"
          ]
        },
        {
          "output_type": "stream",
          "name": "stdout",
          "text": [
            "logpost  -1.3862943611198906189   -890.603730341966   -21.887688573148292\n",
            "97 th iteration, pr =  -913.87771327623413936   -907.16143798497683975   [[0. 0. 0. 0. 1. 1. 0. 0. 0. 0. 1. 0. 0. 1. 1. 0. 0. 0.]]\n"
          ]
        },
        {
          "output_type": "stream",
          "name": "stderr",
          "text": [
            "\r 99%|█████████▉| 99/100 [01:27<00:00,  1.25it/s]"
          ]
        },
        {
          "output_type": "stream",
          "name": "stdout",
          "text": [
            "logpost  -1.6094379124341003191   -886.5401630006172   -21.887688573148292\n",
            "98 th iteration, pr =  -910.0372894861996052   -907.16143798497683975   [[0. 0. 0. 0. 1. 1. 0. 0. 0. 0. 1. 0. 0. 1. 1. 0. 0. 0.]]\n"
          ]
        },
        {
          "output_type": "stream",
          "name": "stderr",
          "text": [
            "100%|██████████| 100/100 [01:28<00:00,  1.13it/s]"
          ]
        },
        {
          "output_type": "stream",
          "name": "stdout",
          "text": [
            "logpost  -1.6094379124341003191   -886.5401630006172   -21.887688573148292\n",
            "99 th iteration, pr =  -910.0372894861996052   -907.16143798497683975   [[0. 0. 0. 0. 1. 1. 0. 0. 0. 0. 1. 0. 0. 1. 1. 0. 0. 0.]]\n",
            "association 0 2\n",
            "association 0 1\n",
            "association 0 2\n",
            "association 0 1\n",
            "association 1 0\n"
          ]
        },
        {
          "output_type": "stream",
          "name": "stderr",
          "text": [
            "\n"
          ]
        },
        {
          "output_type": "stream",
          "name": "stdout",
          "text": [
            "association 1 0\n",
            "association 0 2\n",
            "association 0 1\n",
            "association 0 1\n",
            "association 0 2\n",
            "association 1 0\n",
            "association 0 1\n",
            "association 0 1\n",
            "association 1 0\n",
            "association 1 0\n",
            "association 0 2\n",
            "association 0 2\n",
            "association 0 0\n",
            "EVD =  [4.055070287705376, 3.0067673592591815, 5.240720363759049]\n",
            "original assignment [2 1 0 2 0 1 2 0 0 0 1 1 2 0 0 2 2 1 1 0 2 1 2 1]\n"
          ]
        },
        {
          "output_type": "stream",
          "name": "stderr",
          "text": [
            "/content/drive/MyDrive/dpm_lmdp/utils/log_post.py:63: RuntimeWarning: invalid value encountered in log\n",
            "  logDPprior = np.log(assignment_prob(C.assignment, alpha))\n"
          ]
        },
        {
          "output_type": "stream",
          "name": "stdout",
          "text": [
            "logpost  nan   -1348.3227610049944   -106.58870846883197\n",
            "init pr =  nan\n"
          ]
        },
        {
          "output_type": "stream",
          "name": "stderr",
          "text": [
            "  1%|          | 1/100 [00:05<08:45,  5.31s/it]"
          ]
        },
        {
          "output_type": "stream",
          "name": "stdout",
          "text": [
            "logpost  nan   -1250.5765145325515   -78.26879593952151\n",
            "0 th iteration, pr =  nan   -inf   []\n"
          ]
        },
        {
          "output_type": "stream",
          "name": "stderr",
          "text": [
            "\r  2%|▏         | 2/100 [00:09<07:49,  4.79s/it]"
          ]
        },
        {
          "output_type": "stream",
          "name": "stdout",
          "text": [
            "logpost  nan   -1234.0927515309993   -75.43416581845098\n",
            "1 th iteration, pr =  nan   -inf   []\n"
          ]
        },
        {
          "output_type": "stream",
          "name": "stderr",
          "text": [
            "\r  2%|▏         | 2/100 [00:12<10:32,  6.45s/it]\n"
          ]
        },
        {
          "output_type": "error",
          "ename": "KeyboardInterrupt",
          "evalue": "ignored",
          "traceback": [
            "\u001b[0;31m---------------------------------------------------------------------------\u001b[0m",
            "\u001b[0;31mKeyboardInterrupt\u001b[0m                         Traceback (most recent call last)",
            "\u001b[0;32m<ipython-input-6-57e79ae5e9d7>\u001b[0m in \u001b[0;36m<module>\u001b[0;34m\u001b[0m\n\u001b[1;32m     11\u001b[0m     \u001b[0my\u001b[0m\u001b[0;34m.\u001b[0m\u001b[0mappend\u001b[0m\u001b[0;34m(\u001b[0m\u001b[0mint\u001b[0m\u001b[0;34m(\u001b[0m\u001b[0mi\u001b[0m\u001b[0;34m)\u001b[0m\u001b[0;34m)\u001b[0m\u001b[0;34m\u001b[0m\u001b[0;34m\u001b[0m\u001b[0m\n\u001b[1;32m     12\u001b[0m     \u001b[0mtraj_set\u001b[0m\u001b[0;34m,\u001b[0m \u001b[0mrewards_gt\u001b[0m\u001b[0;34m,\u001b[0m\u001b[0my2\u001b[0m \u001b[0;34m=\u001b[0m \u001b[0mlmdp_trajectories\u001b[0m\u001b[0;34m(\u001b[0m\u001b[0mF\u001b[0m\u001b[0;34m,\u001b[0m \u001b[0mP_un\u001b[0m\u001b[0;34m,\u001b[0m \u001b[0mRF\u001b[0m\u001b[0;34m,\u001b[0m \u001b[0mtn\u001b[0m\u001b[0;34m,\u001b[0m \u001b[0mtl\u001b[0m\u001b[0;34m)\u001b[0m\u001b[0;34m\u001b[0m\u001b[0;34m\u001b[0m\u001b[0m\n\u001b[0;32m---> 13\u001b[0;31m     \u001b[0mmaxC\u001b[0m \u001b[0;34m=\u001b[0m \u001b[0mdpmhl\u001b[0m\u001b[0;34m(\u001b[0m\u001b[0mtraj_set\u001b[0m\u001b[0;34m,\u001b[0m \u001b[0mmaxiter\u001b[0m\u001b[0;34m,\u001b[0m \u001b[0mtn\u001b[0m\u001b[0;34m,\u001b[0m \u001b[0mP_un\u001b[0m\u001b[0;34m)\u001b[0m\u001b[0;34m\u001b[0m\u001b[0;34m\u001b[0m\u001b[0m\n\u001b[0m\u001b[1;32m     14\u001b[0m     \u001b[0me\u001b[0m \u001b[0;34m=\u001b[0m \u001b[0mevd\u001b[0m\u001b[0;34m(\u001b[0m\u001b[0mmaxC\u001b[0m\u001b[0;34m,\u001b[0m \u001b[0mrewards_gt\u001b[0m\u001b[0;34m,\u001b[0m \u001b[0mmaxiter\u001b[0m\u001b[0;34m,\u001b[0m \u001b[0mtn\u001b[0m\u001b[0;34m,\u001b[0m \u001b[0mP_un\u001b[0m\u001b[0;34m,\u001b[0m\u001b[0my2\u001b[0m\u001b[0;34m)\u001b[0m\u001b[0;34m\u001b[0m\u001b[0;34m\u001b[0m\u001b[0m\n\u001b[1;32m     15\u001b[0m     \u001b[0mEVD\u001b[0m\u001b[0;34m.\u001b[0m\u001b[0mappend\u001b[0m\u001b[0;34m(\u001b[0m\u001b[0me\u001b[0m\u001b[0;34m)\u001b[0m\u001b[0;34m\u001b[0m\u001b[0;34m\u001b[0m\u001b[0m\n",
            "\u001b[0;32m/content/drive/MyDrive/dpm_lmdp/utils/DPMHL.py\u001b[0m in \u001b[0;36mdpmhl\u001b[0;34m(traj_set, maxiter, tn, P_un)\u001b[0m\n\u001b[1;32m     34\u001b[0m         \u001b[0mx\u001b[0m \u001b[0;34m=\u001b[0m \u001b[0mnp\u001b[0m\u001b[0;34m.\u001b[0m\u001b[0mrandom\u001b[0m\u001b[0;34m.\u001b[0m\u001b[0mrandint\u001b[0m\u001b[0;34m(\u001b[0m\u001b[0;36m0\u001b[0m\u001b[0;34m,\u001b[0m \u001b[0mint\u001b[0m\u001b[0;34m(\u001b[0m\u001b[0mnp\u001b[0m\u001b[0;34m.\u001b[0m\u001b[0mmax\u001b[0m\u001b[0;34m(\u001b[0m\u001b[0mC\u001b[0m\u001b[0;34m.\u001b[0m\u001b[0massignment\u001b[0m\u001b[0;34m)\u001b[0m\u001b[0;34m)\u001b[0m \u001b[0;34m+\u001b[0m \u001b[0;36m1\u001b[0m\u001b[0;34m,\u001b[0m \u001b[0msize\u001b[0m\u001b[0;34m=\u001b[0m\u001b[0;34m(\u001b[0m\u001b[0;36m1\u001b[0m\u001b[0;34m,\u001b[0m \u001b[0mint\u001b[0m\u001b[0;34m(\u001b[0m\u001b[0mnp\u001b[0m\u001b[0;34m.\u001b[0m\u001b[0mmax\u001b[0m\u001b[0;34m(\u001b[0m\u001b[0mC\u001b[0m\u001b[0;34m.\u001b[0m\u001b[0massignment\u001b[0m\u001b[0;34m)\u001b[0m\u001b[0;34m)\u001b[0m\u001b[0;34m)\u001b[0m\u001b[0;34m)\u001b[0m\u001b[0;34m[\u001b[0m\u001b[0;36m0\u001b[0m\u001b[0;34m]\u001b[0m\u001b[0;34m\u001b[0m\u001b[0;34m\u001b[0m\u001b[0m\n\u001b[1;32m     35\u001b[0m         \u001b[0;32mfor\u001b[0m \u001b[0mk\u001b[0m \u001b[0;32min\u001b[0m \u001b[0mx\u001b[0m\u001b[0;34m:\u001b[0m\u001b[0;34m\u001b[0m\u001b[0;34m\u001b[0m\u001b[0m\n\u001b[0;32m---> 36\u001b[0;31m             \u001b[0mC\u001b[0m \u001b[0;34m=\u001b[0m \u001b[0mupdate_weight\u001b[0m\u001b[0;34m(\u001b[0m\u001b[0mk\u001b[0m\u001b[0;34m,\u001b[0m \u001b[0mtraj_set\u001b[0m\u001b[0;34m,\u001b[0m \u001b[0mC\u001b[0m\u001b[0;34m,\u001b[0m \u001b[0mP_un\u001b[0m\u001b[0;34m)\u001b[0m\u001b[0;34m\u001b[0m\u001b[0;34m\u001b[0m\u001b[0m\n\u001b[0m\u001b[1;32m     37\u001b[0m         \u001b[0mpr\u001b[0m \u001b[0;34m=\u001b[0m \u001b[0mcalDPMLogPost\u001b[0m\u001b[0;34m(\u001b[0m\u001b[0mtraj_set\u001b[0m\u001b[0;34m,\u001b[0m \u001b[0mC\u001b[0m\u001b[0;34m,\u001b[0m \u001b[0mP_un\u001b[0m\u001b[0;34m)\u001b[0m\u001b[0;34m\u001b[0m\u001b[0;34m\u001b[0m\u001b[0m\n\u001b[1;32m     38\u001b[0m         \u001b[0mmaxC\u001b[0m\u001b[0;34m,\u001b[0m \u001b[0mhist\u001b[0m\u001b[0;34m,\u001b[0m \u001b[0mbUpdate\u001b[0m\u001b[0;34m,\u001b[0m \u001b[0mh\u001b[0m \u001b[0;34m=\u001b[0m \u001b[0msaveHist\u001b[0m\u001b[0;34m(\u001b[0m\u001b[0mC\u001b[0m\u001b[0;34m,\u001b[0m \u001b[0mpr\u001b[0m\u001b[0;34m,\u001b[0m \u001b[0mmaxC\u001b[0m\u001b[0;34m,\u001b[0m \u001b[0mhist\u001b[0m\u001b[0;34m)\u001b[0m\u001b[0;34m\u001b[0m\u001b[0;34m\u001b[0m\u001b[0m\n",
            "\u001b[0;32m/content/drive/MyDrive/dpm_lmdp/utils/update_weight.py\u001b[0m in \u001b[0;36mupdate_weight\u001b[0;34m(k, traj_set, C, P_un)\u001b[0m\n\u001b[1;32m     33\u001b[0m             \u001b[0mrx\u001b[0m \u001b[0;34m=\u001b[0m \u001b[0mreward_feature\u001b[0m\u001b[0;34m(\u001b[0m\u001b[0mM\u001b[0m\u001b[0;34m,\u001b[0m \u001b[0mN\u001b[0m\u001b[0;34m,\u001b[0m\u001b[0mr2\u001b[0m\u001b[0;34m)\u001b[0m\u001b[0;34m.\u001b[0m\u001b[0mreshape\u001b[0m\u001b[0;34m(\u001b[0m\u001b[0mX\u001b[0m\u001b[0;34m,\u001b[0m \u001b[0;36m1\u001b[0m\u001b[0;34m)\u001b[0m\u001b[0;34m\u001b[0m\u001b[0;34m\u001b[0m\u001b[0m\n\u001b[1;32m     34\u001b[0m             \u001b[0mz2\u001b[0m\u001b[0;34m,\u001b[0m \u001b[0mr3\u001b[0m \u001b[0;34m=\u001b[0m \u001b[0mget_z\u001b[0m\u001b[0;34m(\u001b[0m\u001b[0mrx\u001b[0m\u001b[0;34m,\u001b[0m \u001b[0mP_un\u001b[0m\u001b[0;34m)\u001b[0m\u001b[0;34m\u001b[0m\u001b[0;34m\u001b[0m\u001b[0m\n\u001b[0;32m---> 35\u001b[0;31m             \u001b[0mp2\u001b[0m \u001b[0;34m=\u001b[0m \u001b[0moptimal_policy\u001b[0m\u001b[0;34m(\u001b[0m\u001b[0mP_un\u001b[0m\u001b[0;34m,\u001b[0m \u001b[0mz2\u001b[0m\u001b[0;34m)\u001b[0m\u001b[0;34m\u001b[0m\u001b[0;34m\u001b[0m\u001b[0m\n\u001b[0m\u001b[1;32m     36\u001b[0m \u001b[0;34m\u001b[0m\u001b[0m\n\u001b[1;32m     37\u001b[0m \u001b[0;34m\u001b[0m\u001b[0m\n",
            "\u001b[0;32m/content/drive/MyDrive/dpm_lmdp/utils/lmdp.py\u001b[0m in \u001b[0;36moptimal_policy\u001b[0;34m(P_un, z)\u001b[0m\n\u001b[1;32m     28\u001b[0m     \u001b[0;32mfor\u001b[0m \u001b[0mi\u001b[0m \u001b[0;32min\u001b[0m \u001b[0mrange\u001b[0m\u001b[0;34m(\u001b[0m\u001b[0;36m0\u001b[0m\u001b[0;34m,\u001b[0m \u001b[0mX\u001b[0m\u001b[0;34m)\u001b[0m\u001b[0;34m:\u001b[0m\u001b[0;34m\u001b[0m\u001b[0;34m\u001b[0m\u001b[0m\n\u001b[1;32m     29\u001b[0m         \u001b[0;32mfor\u001b[0m \u001b[0mj\u001b[0m \u001b[0;32min\u001b[0m \u001b[0mrange\u001b[0m\u001b[0;34m(\u001b[0m\u001b[0;36m0\u001b[0m\u001b[0;34m,\u001b[0m \u001b[0mX\u001b[0m\u001b[0;34m)\u001b[0m\u001b[0;34m:\u001b[0m\u001b[0;34m\u001b[0m\u001b[0;34m\u001b[0m\u001b[0m\n\u001b[0;32m---> 30\u001b[0;31m             \u001b[0ma\u001b[0m\u001b[0;34m[\u001b[0m\u001b[0mi\u001b[0m\u001b[0;34m,\u001b[0m \u001b[0mj\u001b[0m\u001b[0;34m]\u001b[0m \u001b[0;34m=\u001b[0m \u001b[0mP_un\u001b[0m\u001b[0;34m[\u001b[0m\u001b[0mi\u001b[0m\u001b[0;34m,\u001b[0m \u001b[0mj\u001b[0m\u001b[0;34m]\u001b[0m \u001b[0;34m*\u001b[0m \u001b[0mz\u001b[0m\u001b[0;34m[\u001b[0m\u001b[0mj\u001b[0m\u001b[0;34m]\u001b[0m\u001b[0;34m\u001b[0m\u001b[0;34m\u001b[0m\u001b[0m\n\u001b[0m\u001b[1;32m     31\u001b[0m         \u001b[0ma\u001b[0m\u001b[0;34m[\u001b[0m\u001b[0mi\u001b[0m\u001b[0;34m,\u001b[0m \u001b[0;34m:\u001b[0m\u001b[0;34m]\u001b[0m \u001b[0;34m=\u001b[0m \u001b[0ma\u001b[0m\u001b[0;34m[\u001b[0m\u001b[0mi\u001b[0m\u001b[0;34m,\u001b[0m \u001b[0;34m:\u001b[0m\u001b[0;34m]\u001b[0m \u001b[0;34m/\u001b[0m \u001b[0mnp\u001b[0m\u001b[0;34m.\u001b[0m\u001b[0msum\u001b[0m\u001b[0;34m(\u001b[0m\u001b[0ma\u001b[0m\u001b[0;34m[\u001b[0m\u001b[0mi\u001b[0m\u001b[0;34m,\u001b[0m \u001b[0;34m:\u001b[0m\u001b[0;34m]\u001b[0m\u001b[0;34m)\u001b[0m\u001b[0;34m\u001b[0m\u001b[0;34m\u001b[0m\u001b[0m\n\u001b[1;32m     32\u001b[0m \u001b[0;34m\u001b[0m\u001b[0m\n",
            "\u001b[0;31mKeyboardInterrupt\u001b[0m: "
          ]
        }
      ]
    },
    {
      "cell_type": "code",
      "source": [],
      "metadata": {
        "id": "DP-OZ3jawN5K"
      },
      "execution_count": null,
      "outputs": []
    }
  ]
}